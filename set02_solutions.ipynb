{
 "cells": [
  {
   "cell_type": "code",
   "execution_count": 1,
   "id": "4b933582-fdc0-41a7-8a45-99c29139348a",
   "metadata": {},
   "outputs": [],
   "source": [
    "%matplotlib widget\n",
    "import numpy as np\n",
    "import matplotlib.pyplot as plt"
   ]
  },
  {
   "cell_type": "markdown",
   "id": "f884dcc9-94cd-40dc-88e6-64116a7ab156",
   "metadata": {},
   "source": [
    "# Problem Set 2 Solutions \n",
    "\n",
    "_Contents_\n",
    "* [Classes](#sec_classes)\n",
    "* [Problem 1](#sec_prob1)\n",
    "* [Problem 3](#sec_prob3)\n"
   ]
  },
  {
   "cell_type": "markdown",
   "id": "5adc5de3",
   "metadata": {},
   "source": [
    "## Class Definitions <a class=\"anchor\" id=\"sec_classes\"></a>"
   ]
  },
  {
   "cell_type": "code",
   "execution_count": 2,
   "id": "ff3b9d53",
   "metadata": {},
   "outputs": [],
   "source": [
    "class GateBase(object):\n",
    "  def __init__(self, t_prop_delay=1e-9, initial_state=False):\n",
    "    self._current_output_state = initial_state\n",
    "    self._next_output_state = initial_state # Will move to current after tpd.\n",
    "    self._time_of_last_state_change = 0\n",
    "    self._tpd = t_prop_delay\n",
    "    self._input_states = [] # length of list defined by *argv.\n",
    "\n",
    "  def get_state(self, t):\n",
    "    self._update_state(t)\n",
    "    return int(self._current_output_state)\n",
    "\n",
    "  def set_input(self, t, *argv):\n",
    "    if len(self._input_states) != len(argv):\n",
    "      raise ValueError(\"Lengths of input argv and input states differ.\")\n",
    "\n",
    "    bool_argv = [bool(in_) for in_ in argv] \n",
    "    \n",
    "    # Check if any input states have changed.\n",
    "    for ii, new_input_i in enumerate(argv):\n",
    "      if self._input_states[ii] != new_input_i:\n",
    "        self._time_of_last_state_change = t # reset the timer\n",
    "        self._input_states[ii] = new_input_i\n",
    "    \n",
    "    self._update_next_output_state()\n",
    "\n",
    "  def _update_next_output_state(self):\n",
    "    # Perform the logic action of the gate.\n",
    "    raise NotImplementedError(\"Derived class should implement this function.\")\n",
    "\n",
    "  def _update_state(self, t):\n",
    "    if t - self._time_of_last_state_change >= self._tpd:\n",
    "      self._current_output_state = self._next_output_state\n",
    "      #self._time_of_last_state_change = t # reset the timer\n",
    "    \n",
    "\n",
    "class NAND2Gate(GateBase):\n",
    "  def __init__(self, t_prop_delay=1e-9, initial_state=True):\n",
    "    super().__init__(t_prop_delay, initial_state)\n",
    "    self._input_states = [False, False]\n",
    "    self._update_next_output_state()\n",
    "    \n",
    "  def _update_next_output_state(self):\n",
    "    # Perform the logic action of the gate.\n",
    "    a = self._input_states[0]\n",
    "    b = self._input_states[1]\n",
    "    self._next_output_state = not ( a and b )\n",
    "\n",
    "class AND2Gate(GateBase):\n",
    "  def __init__(self, t_prop_delay=1e-9, initial_state=True):\n",
    "    super().__init__(t_prop_delay, initial_state)\n",
    "    self._input_states = [False, False]\n",
    "    self._update_next_output_state()\n",
    "    \n",
    "  def _update_next_output_state(self):\n",
    "    # Perform the logic action of the gate.\n",
    "    a = self._input_states[0]\n",
    "    b = self._input_states[1]\n",
    "    self._next_output_state = ( a and b )\n",
    "\n",
    "class OR3Gate(GateBase):\n",
    "  def __init__(self, t_prop_delay=1e-9, initial_state=True):\n",
    "    super().__init__(t_prop_delay, initial_state)\n",
    "    self._input_states = [False, False, False]\n",
    "    self._update_next_output_state()\n",
    "    \n",
    "  def _update_next_output_state(self):\n",
    "    # Perform the logic action of the gate.\n",
    "    a = self._input_states[0]\n",
    "    b = self._input_states[1]\n",
    "    c = self._input_states[2]\n",
    "    self._next_output_state = ( a or b or c )\n",
    "\n",
    "class NOTGate(GateBase):\n",
    "  def __init__(self, t_prop_delay=1e-9, initial_state=False):\n",
    "    super().__init__(t_prop_delay, initial_state)\n",
    "    self._input_states = [False,]\n",
    "    self._update_next_output_state()\n",
    "\n",
    "  def _update_next_output_state(self):\n",
    "    a = self._input_states[0]\n",
    "    self._next_output_state = not a"
   ]
  },
  {
   "cell_type": "markdown",
   "id": "1d415087",
   "metadata": {},
   "source": [
    "## Problem 1 <a class=\"anchor\" id=\"sec_prob1\"></a>\n"
   ]
  },
  {
   "cell_type": "markdown",
   "id": "ed931876",
   "metadata": {},
   "source": [
    "## Problem 3 <a class=\"anchor\" id=\"sec_prob3\"></a>"
   ]
  },
  {
   "cell_type": "code",
   "execution_count": 3,
   "id": "990bc31d",
   "metadata": {},
   "outputs": [
    {
     "data": {
      "application/vnd.jupyter.widget-view+json": {
       "model_id": "0d0289319dc341f996bac472bb7fe2f8",
       "version_major": 2,
       "version_minor": 0
      },
      "text/plain": [
       "Canvas(toolbar=Toolbar(toolitems=[('Home', 'Reset original view', 'home', 'home'), ('Back', 'Back to previous …"
      ]
     },
     "metadata": {},
     "output_type": "display_data"
    },
    {
     "data": {
      "text/plain": [
       "Text(0, 0.5, 'Logic Level')"
      ]
     },
     "execution_count": 3,
     "metadata": {},
     "output_type": "execute_result"
    }
   ],
   "source": [
    "t1 = 5\n",
    "t2 = t1 #10\n",
    "t3 = t1 #15\n",
    "t4 = t1 #20\n",
    "t5 = t1 #25\n",
    "\n",
    "t = np.linspace(0,200,100001)\n",
    "\n",
    "# D Latch Specific Gates\n",
    "G0 = NOTGate(t1, initial_state=True)\n",
    "G1 = AND2Gate(t2, initial_state=False)\n",
    "G2 = AND2Gate(t3, initial_state=False)\n",
    "G3 = AND2Gate(t4, initial_state=False)\n",
    "G4 = OR3Gate(t5, initial_state=False)\n",
    "\n",
    "Td = 20\n",
    "D = 1 + 0*t\n",
    "\n",
    "T = 50\n",
    "Gate = 1*(t >= 20)\n",
    "\n",
    "u1o = 0*t\n",
    "u2o = 0*t\n",
    "u3o = 0*t\n",
    "u4o = 0*t\n",
    "q = 0*t\n",
    "\n",
    "for ii, t_ in enumerate(t):\n",
    "  if ii == 0:\n",
    "    u1o_ = G0.get_state(t_)\n",
    "    u2o_ = G1.get_state(t_)\n",
    "    u3o_ = G2.get_state(t_)\n",
    "    u4o_ = G3.get_state(t_)\n",
    "    q_ = G4.get_state(t_)\n",
    "  else:\n",
    "    u1o_, u2o_, u3o_ = u1o[ii-1], u2o[ii-1], u3o[ii-1]\n",
    "    u4o_, q_ = u4o[ii-1], q[ii-1] \n",
    "  D_, Gate_ = D[ii], Gate[ii]\n",
    "\n",
    "  G0.set_input(t_, Gate_)\n",
    "  G1.set_input(t_, q_, u1o_)\n",
    "  G2.set_input(t_, q_, D_)\n",
    "  G3.set_input(t_, Gate_, D_)\n",
    "  G4.set_input(t_, u2o_, u3o_, u4o_)\n",
    "\n",
    "  u1o[ii] = G0.get_state(t_)\n",
    "  u2o[ii] = G1.get_state(t_)\n",
    "  u3o[ii] = G2.get_state(t_)\n",
    "  u4o[ii] = G3.get_state(t_)\n",
    "  q[ii] = G4.get_state(t_)\n",
    "\n",
    "\n",
    "xfcn = lambda x_ : x_*1\n",
    "fig, ax = plt.subplots(1,1, figsize=(12,6))\n",
    "ax.plot(xfcn(t), D+6, label='D')\n",
    "ax.plot(xfcn(t), Gate+5, label='CLK')\n",
    "ax.plot(xfcn(t), u1o+4, label='U1o')\n",
    "ax.plot(xfcn(t), u2o+3, label='U2o')\n",
    "ax.plot(xfcn(t), u3o+2, label='U3o')\n",
    "ax.plot(xfcn(t), u4o+1, label='U4o')\n",
    "ax.plot(xfcn(t), q, label='Q')\n",
    "\n",
    "ax.grid(True)\n",
    "leg1 = ax.legend(loc='best')\n",
    "\n",
    "ax.set_title('Earle Latch Testing')\n",
    "ax.set_xlabel('Time (ns)')\n",
    "ax.set_ylabel('Logic Level')\n"
   ]
  }
 ],
 "metadata": {
  "interpreter": {
   "hash": "5764602bc5e15974420ba0a3caed7061d770b6b7de350fe4980c5fe44de76677"
  },
  "kernelspec": {
   "display_name": "Python 3.8.10 64-bit ('base': conda)",
   "name": "python3"
  },
  "language_info": {
   "codemirror_mode": {
    "name": "ipython",
    "version": 3
   },
   "file_extension": ".py",
   "mimetype": "text/x-python",
   "name": "python",
   "nbconvert_exporter": "python",
   "pygments_lexer": "ipython3",
   "version": "3.8.10"
  }
 },
 "nbformat": 4,
 "nbformat_minor": 5
}
