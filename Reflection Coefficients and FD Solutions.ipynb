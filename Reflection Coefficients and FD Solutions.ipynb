{
 "cells": [
  {
   "cell_type": "code",
   "execution_count": 10,
   "metadata": {},
   "outputs": [],
   "source": [
    "#%matplotlib widget\n",
    "import matplotlib.pyplot as plt\n",
    "import numpy as np\n",
    "from numpy.linalg import solve as linsolve"
   ]
  },
  {
   "cell_type": "markdown",
   "metadata": {},
   "source": [
    "## Select Options for $\\Gamma$ Calculation"
   ]
  },
  {
   "cell_type": "code",
   "execution_count": 2,
   "metadata": {},
   "outputs": [],
   "source": [
    "def parZ(z1, z2):\n",
    "    return 1./(1./z1 + 1./z2)\n",
    "\n",
    "def gamma(zl, zo):\n",
    "    return (zl - zo)/(zl + zo)"
   ]
  },
  {
   "cell_type": "code",
   "execution_count": 3,
   "metadata": {},
   "outputs": [],
   "source": [
    "R1 = 25 # 75\n",
    "R2 = 50\n",
    "C = 10e-12\n",
    "L = 100e-12\n",
    "zo = 50\n",
    "\n",
    "f = np.linspace(1, 10000, 10000)*1e6\n",
    "jw = 1j*2*np.pi*f"
   ]
  },
  {
   "cell_type": "code",
   "execution_count": 4,
   "metadata": {},
   "outputs": [],
   "source": [
    "rr = parZ(R1, R2)\n",
    "Grr = gamma(rr, zo) + 0*f\n",
    "\n",
    "rc = parZ(R1, 1./(jw*C))\n",
    "Grc = gamma(rc, zo)\n",
    "\n",
    "lc = parZ(1./(jw*C), jw*L)\n",
    "Glc = gamma(lc, zo)\n",
    "\n",
    "rlc = parZ(parZ(R1, 1./(jw*C)), jw*L)\n",
    "Grlc = gamma(rlc, zo)\n"
   ]
  },
  {
   "cell_type": "code",
   "execution_count": 5,
   "metadata": {},
   "outputs": [
    {
     "data": {
      "application/vnd.jupyter.widget-view+json": {
       "model_id": "5000dbe9049e43c99faf1004914d00db",
       "version_major": 2,
       "version_minor": 0
      },
      "text/plain": [
       "Canvas(toolbar=Toolbar(toolitems=[('Home', 'Reset original view', 'home', 'home'), ('Back', 'Back to previous …"
      ]
     },
     "metadata": {},
     "output_type": "display_data"
    }
   ],
   "source": [
    "fig, axs = plt.subplots(2)\n",
    "\n",
    "xfcn = lambda x_ : x_/1e9\n",
    "yfcn = lambda y_ : np.abs(y_)\n",
    "yfcn2 = lambda y_ : np.unwrap(np.angle(y_))\n",
    "\n",
    "axs[0].plot(xfcn(f), yfcn(Grr), label='R Parallel')\n",
    "axs[1].plot(xfcn(f), yfcn2(Grr), label='R Parallel')\n",
    "\n",
    "axs[0].plot(xfcn(f), yfcn(Grc), label='RC Parallel')\n",
    "axs[1].plot(xfcn(f), yfcn2(Grc), label='RC Parallel')\n",
    "\n",
    "axs[0].plot(xfcn(f), yfcn(Glc), label='LC Parallel')\n",
    "axs[1].plot(xfcn(f), yfcn2(Glc), label='LC Parallel')\n",
    "\n",
    "axs[0].plot(xfcn(f), yfcn(Grlc), label='RLC Parallel')\n",
    "axs[1].plot(xfcn(f), yfcn2(Grlc), label='RLC Parallel')\n",
    "\n",
    "axs[1].legend(loc='best')\n",
    "axs[0].set_ylabel('Magnitude')\n",
    "axs[1].set_ylabel('Phase (rad)')\n",
    "axs[1].set_xlabel('Frequency (GHz)')\n",
    "fig.suptitle('Reflection Coefficients for Different Loads')\n",
    "\n",
    "axs[0].grid(True)\n",
    "axs[1].grid(True)"
   ]
  },
  {
   "cell_type": "markdown",
   "metadata": {},
   "source": [
    "## Voltage Calculation for the Line\n",
    "\n",
    "### RC and RL Terminated Lines"
   ]
  },
  {
   "cell_type": "code",
   "execution_count": 6,
   "metadata": {},
   "outputs": [],
   "source": [
    "def zin(zl, zo, f, l, vp):\n",
    "    w = 2*np.pi*f\n",
    "    beta = w/vp\n",
    "    \n",
    "    zin = zo*(zl + 1j*zo*np.tan(beta*l))/(zo + 1j*zl*np.tan(beta*l))\n",
    "    return zin\n",
    "\n",
    "def vplus(zo, zs, zl, f, l, vp, Vs):\n",
    "    jw = 2j*np.pi*f\n",
    "    jbeta = jw/vp\n",
    "    \n",
    "    gamma_ = gamma(zl, zo)\n",
    "    zin_ = zin(zl, zo, f, l, vp)\n",
    "    \n",
    "    vplus = (zin_ / (zin_ + zs)) * Vs / (np.e**(jbeta*l) + gamma_*np.e**(-jbeta*l))\n",
    "    return vplus\n",
    "\n",
    "def v_spectrum_at_z(z, zo, zs, zl, f, l, vp, Vs):\n",
    "    # V(z) = Vplus (e^-jbz + G e^jbz)\n",
    "    jw = 2j*np.pi*f\n",
    "    jbeta = jw/vp\n",
    "    vplus_ = vplus(zo, zs, zl, f, l, vp, Vs)\n",
    "    v_ = vplus_ * (np.e**(-jbeta*z) + gamma(zl,zo)*np.e**(jbeta*z))\n",
    "    return v_\n",
    "\n",
    "def v_line_at_f(f0, zo, zs, zl, z_, l, vp, Vs):\n",
    "    jw = 2j*np.pi*f0\n",
    "    jbeta = jw/vp\n",
    "    vplus_ = vplus(zo, zs, zl, f0, l, vp, Vs)\n",
    "    v_ = vplus_ * (np.e**(-jbeta*z_) + gamma(zl,zo)*np.e**(jbeta*z_))\n",
    "    return v_\n",
    "    "
   ]
  },
  {
   "cell_type": "code",
   "execution_count": 7,
   "metadata": {},
   "outputs": [],
   "source": [
    "Vs = 1\n",
    "Zs = 50\n",
    "R = 100\n",
    "C = 100e-12\n",
    "L = 10e-9\n",
    "zo = 50\n",
    "vp = 2e10 # cm/s\n",
    "l = 5 # cm\n",
    "\n",
    "z_ = np.linspace(-l, 0, 1001)\n",
    "f = np.linspace(1, 10000, 10000)*1e6\n",
    "jw = 1j*2*np.pi*f\n",
    "\n",
    "jbeta = jw/vp"
   ]
  },
  {
   "cell_type": "code",
   "execution_count": 8,
   "metadata": {},
   "outputs": [
    {
     "data": {
      "application/vnd.jupyter.widget-view+json": {
       "model_id": "4c8e51f7091d4b59bc7eea124d5b045f",
       "version_major": 2,
       "version_minor": 0
      },
      "text/plain": [
       "Canvas(toolbar=Toolbar(toolitems=[('Home', 'Reset original view', 'home', 'home'), ('Back', 'Back to previous …"
      ]
     },
     "metadata": {},
     "output_type": "display_data"
    }
   ],
   "source": [
    "# Plot the spectrum at different points along the line.\n",
    "fig, axs = plt.subplots(2)\n",
    "\n",
    "xfcn = lambda x_ : x_/1e9\n",
    "yfcn = lambda y_ : np.abs(y_)\n",
    "yfcn2 = lambda y_ : np.unwrap(np.angle(y_))\n",
    "#yfcn2 = lambda y_ : (np.angle(y_))\n",
    "\n",
    "Zload = parZ(R, 1./(jw*C))\n",
    "\n",
    "for z0 in [-l, -3*l/4, -l/2, -l/4, 0]:\n",
    "    v_ = v_spectrum_at_z(z0, zo, Zs, Zload, f, l, vp, Vs)\n",
    "    axs[0].plot(xfcn(f), yfcn(v_), label='z = %f' % z0)\n",
    "    axs[1].plot(xfcn(f), yfcn2(v_), label='z = %f' % z0)\n",
    "\n",
    "axs[1].legend(loc='best')\n",
    "axs[0].set_ylabel('Magnitude')\n",
    "axs[1].set_ylabel('Phase (rad)')\n",
    "axs[1].set_xlabel('Frequency (GHz)')\n",
    "fig.suptitle('Voltage at z w.r.t. Frequency')\n",
    "\n",
    "axs[0].grid(True)\n",
    "axs[1].grid(True)"
   ]
  },
  {
   "cell_type": "code",
   "execution_count": 9,
   "metadata": {},
   "outputs": [
    {
     "data": {
      "application/vnd.jupyter.widget-view+json": {
       "model_id": "ef9b6c7a63534b43885b0d8f2d00582d",
       "version_major": 2,
       "version_minor": 0
      },
      "text/plain": [
       "Canvas(toolbar=Toolbar(toolitems=[('Home', 'Reset original view', 'home', 'home'), ('Back', 'Back to previous …"
      ]
     },
     "metadata": {},
     "output_type": "display_data"
    }
   ],
   "source": [
    "# Plot the spectrum at different points along the line.\n",
    "fig, axs = plt.subplots(2)\n",
    "\n",
    "xfcn = lambda x_ : x_\n",
    "yfcn = lambda y_ : np.abs(y_)\n",
    "yfcn2 = lambda y_ : np.unwrap(np.angle(y_))\n",
    "#yfcn2 = lambda y_ : (np.angle(y_))\n",
    "\n",
    "for f0 in [1, 1e8, 2e8, 5e9, 10e9]: # [1, 2.5e9, 5e9, 7.5e9, 10e9]:\n",
    "    Zload = parZ(R, 1./(2j*np.pi*f0*C))\n",
    "    v_ = v_line_at_f(f0, zo, Zs, Zload, z_, l, vp, Vs)\n",
    "    axs[0].plot(xfcn(z_), yfcn(v_), label='f = %f' % (f0/1e9))\n",
    "    axs[1].plot(xfcn(z_), yfcn2(v_), label='f = %f' % (f0/1e9))\n",
    "\n",
    "axs[1].legend(loc='best')\n",
    "axs[0].set_ylabel('Magnitude')\n",
    "axs[1].set_ylabel('Phase (rad)')\n",
    "axs[1].set_xlabel('z (cm)')\n",
    "fig.suptitle('Voltage at Frequency w.r.t. z')\n",
    "\n",
    "axs[0].grid(True)\n",
    "axs[1].grid(True)"
   ]
  },
  {
   "cell_type": "code",
   "execution_count": null,
   "metadata": {},
   "outputs": [],
   "source": []
  }
 ],
 "metadata": {
  "kernelspec": {
   "display_name": "Python 3.8.10 ('base')",
   "language": "python",
   "name": "python3"
  },
  "language_info": {
   "codemirror_mode": {
    "name": "ipython",
    "version": 3
   },
   "file_extension": ".py",
   "mimetype": "text/x-python",
   "name": "python",
   "nbconvert_exporter": "python",
   "pygments_lexer": "ipython3",
   "version": "3.8.10"
  },
  "vscode": {
   "interpreter": {
    "hash": "5764602bc5e15974420ba0a3caed7061d770b6b7de350fe4980c5fe44de76677"
   }
  }
 },
 "nbformat": 4,
 "nbformat_minor": 4
}
