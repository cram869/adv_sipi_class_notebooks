{
 "cells": [
  {
   "cell_type": "code",
   "execution_count": 19,
   "metadata": {},
   "outputs": [],
   "source": [
    "%matplotlib widget\n",
    "import matplotlib.pyplot as plt\n",
    "import numpy as np\n",
    "\n",
    "from electrical_analysis.output.plot_tools import *"
   ]
  },
  {
   "cell_type": "code",
   "execution_count": 20,
   "metadata": {},
   "outputs": [],
   "source": [
    "f = np.logspace(6, np.log10(5e9), 1001)\n",
    "s = 1j*2*np.pi*f"
   ]
  },
  {
   "cell_type": "code",
   "execution_count": 21,
   "metadata": {},
   "outputs": [],
   "source": [
    "Zo = 50\n",
    "R = 10 #+ s*20e-9 # The 20 nH messes up the roots calculation, but it makes this a 3rd order filter.\n",
    "C = 22e-12"
   ]
  },
  {
   "cell_type": "code",
   "execution_count": 22,
   "metadata": {},
   "outputs": [
    {
     "name": "stdout",
     "output_type": "stream",
     "text": [
      "[-1.59154943e+09 -1.44686312e+08]\n"
     ]
    }
   ],
   "source": [
    "Num = 2./(R*Zo)\n",
    "a2 = (1/Zo + 1/R)**2 - 1/R**2\n",
    "a1 = 2*(1/Zo + 1/R)*C\n",
    "a0 = C**2\n",
    "Den = a2 + a1*s + a0*s**2\n",
    "\n",
    "S21 = Num/Den\n",
    "\n",
    "print(np.roots([a0, a1, a2])/(2*np.pi))"
   ]
  },
  {
   "cell_type": "code",
   "execution_count": 23,
   "metadata": {},
   "outputs": [
    {
     "data": {
      "application/vnd.jupyter.widget-view+json": {
       "model_id": "26d2d099ceb14d659bf2f1a62902e6b5",
       "version_major": 2,
       "version_minor": 0
      },
      "text/plain": [
       "Canvas(toolbar=Toolbar(toolitems=[('Home', 'Reset original view', 'home', 'home'), ('Back', 'Back to previous …"
      ]
     },
     "metadata": {},
     "output_type": "display_data"
    }
   ],
   "source": [
    "fig, ax = plt.subplots(1,1, figsize=(4,3))\n",
    "fig.subplots_adjust(left=0.15, bottom=0.15, top=0.98, right=0.98)\n",
    "\n",
    "xfcn = lambda x_ : x_/1\n",
    "yfcn = lambda y_ : 20*np.log10(np.abs(y_))\n",
    "ax.semilogx(xfcn(f), yfcn(S21), label='Ideal Response')\n",
    "#ax.loglog(xfcn(f), np.abs(S21))\n",
    "ax.grid(True, which='both')\n",
    "ax.set_xlim(1e6, 5e9)\n",
    "ax.set_xlabel('Frequency (GHz)')\n",
    "ax.set_ylabel('$S_{21}$ (dB)')\n",
    "\n",
    "xpass = np.array([1e6, 100e6])\n",
    "ypass = np.array([-3, -3])\n",
    "xfilt = np.array([800e6, 5e9])\n",
    "yfilt = np.array([-15, -15])\n",
    "ax.semilogx(xpass, ypass, color='k', label='Limits')\n",
    "ax.semilogx(xfilt, yfilt, color='k')\n",
    "\n",
    "leg = ax.legend(loc='best')\n",
    "legend_linewidth(leg, 1.5)\n",
    "#legend_alpha(leg, 0.25)\n",
    "\n",
    "savefigure(fig, 's21_ideal_and_limits', path='../figures')"
   ]
  }
 ],
 "metadata": {
  "kernelspec": {
   "display_name": "Python 3.8.10 ('base')",
   "language": "python",
   "name": "python3"
  },
  "language_info": {
   "codemirror_mode": {
    "name": "ipython",
    "version": 3
   },
   "file_extension": ".py",
   "mimetype": "text/x-python",
   "name": "python",
   "nbconvert_exporter": "python",
   "pygments_lexer": "ipython3",
   "version": "3.8.10 (default, May 19 2021, 18:05:58) \n[GCC 7.3.0]"
  },
  "orig_nbformat": 4,
  "vscode": {
   "interpreter": {
    "hash": "5764602bc5e15974420ba0a3caed7061d770b6b7de350fe4980c5fe44de76677"
   }
  }
 },
 "nbformat": 4,
 "nbformat_minor": 2
}
