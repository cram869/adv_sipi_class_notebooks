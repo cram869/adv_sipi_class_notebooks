{
 "cells": [
  {
   "cell_type": "markdown",
   "metadata": {},
   "source": [
    "# Comment the following code and add widgets to adjust the number of terms in the approximations."
   ]
  },
  {
   "cell_type": "code",
   "execution_count": 1,
   "metadata": {},
   "outputs": [],
   "source": [
    "%matplotlib widget\n",
    "from electrical_analysis.output.plot_tools import *\n",
    "from electrical_analysis.waveform.tracemath import dB\n",
    "\n",
    "import matplotlib.pyplot as plt\n",
    "import numpy as np\n",
    "from numpy.linalg import solve as linsolve\n"
   ]
  },
  {
   "cell_type": "code",
   "execution_count": 2,
   "metadata": {},
   "outputs": [],
   "source": [
    "def ABCD_txline_approximation(Z, Y):\n",
    "    Az = np.matrix([[1, Z], [0, 1]])\n",
    "    Ay = np.matrix([[1, 0], [Y, 1]])\n",
    "    Al = Az*Ay\n",
    "    return Al\n",
    "\n",
    "def solve_lc_approximation(f_v, Lpul, Cpul, l, N, Zs, Zl, Vs):\n",
    "    jw_v = 1j*2*np.pi*np.array(f_v)\n",
    "    \n",
    "    V1 = np.zeros(f_v.shape, dtype=complex)\n",
    "    I1 = np.zeros(f_v.shape, dtype=complex)\n",
    "    V2 = np.zeros(f_v.shape, dtype=complex)\n",
    "    I2 = np.zeros(f_v.shape, dtype=complex)\n",
    "    \n",
    "    dz_i = l/N\n",
    "    for ii, jw_ in enumerate(jw_v):\n",
    "        Z = jw_*Lpul*dz_i\n",
    "        Y = jw_*Cpul*dz_i\n",
    "        Atx_segment = ABCD_txline_approximation(Z,Y)\n",
    "        Atx_total = Atx_segment**N\n",
    "        \n",
    "        Asys = np.matrix([[-1, 0, Atx_total[0,0], Atx_total[0,1]],\n",
    "                          [0, -1, Atx_total[1,0], Atx_total[1,1]],\n",
    "                          [1, Zs, 0, 0],\n",
    "                          [0, 0, -1, Zl]])\n",
    "        b = np.matrix([0, 0, Vs, 0]).transpose()\n",
    "        x = linsolve(Asys, b)\n",
    "        \n",
    "        V1[ii] = x[0,0]\n",
    "        I1[ii] = x[1,0]\n",
    "        V2[ii] = x[2,0]\n",
    "        I2[ii] = x[3,0]\n",
    "    return V1, I1, V2, I2        \n",
    "\n",
    "def solve_txline(f_v, Lpul, Cpul, l, Zs, Zl, Vs):\n",
    "    Zo = np.sqrt(Lpul/Cpul)\n",
    "    vp = 1./np.sqrt(Lpul*Cpul)\n",
    "    \n",
    "    jw_v = 1j*2*np.pi*np.array(f_v)\n",
    "    jBeta_l = jw_v * l / vp\n",
    "    \n",
    "    Gamma = (Zl - Zo)/(Zl + Zo)\n",
    "    Gamma_s = (Zs - Zo)/(Zs + Zo)\n",
    "    \n",
    "    Vplus = Vs*(Zo / (Zo + Zs)) * (np.e**(-jBeta_l) / (1 - Gamma_s*Gamma*np.e**(-2*jBeta_l)))\n",
    "    \n",
    "    V1 = Vplus * (np.e**(jBeta_l) + Gamma*np.e**(-jBeta_l))\n",
    "    I1 = Vplus/Zo * (np.e**(jBeta_l) - Gamma*np.e**(-jBeta_l))\n",
    "    V2 = Vplus * (1 + Gamma) \n",
    "    I2 = Vplus/Zo * (1 - Gamma)\n",
    "    \n",
    "    return V1, I1, V2, I2\n",
    "\n",
    "# Need an ifft routine for step response.\n"
   ]
  },
  {
   "cell_type": "code",
   "execution_count": 3,
   "metadata": {},
   "outputs": [],
   "source": [
    "Zo = 50.\n",
    "co = 3e10 # cm/s\n",
    "vp = co / np.sqrt(2.2) # cm/s\n",
    "Zs = 50\n",
    "Zl = 10\n",
    "Vs = 1\n",
    "\n",
    "Lpul = Zo/vp\n",
    "Cpul = 1./(Zo*vp)\n",
    "\n",
    "l = 5 # cm\n",
    "N = 1000\n",
    "\n",
    "f_v = np.logspace(4, 10, 101)\n",
    "f_v = np.linspace(1e4, 1e10, 10001)\n",
    "V1, I1, V2, I2 = solve_lc_approximation(f_v, Lpul, Cpul, l, N, Zs, Zl, Vs)\n",
    "V1t, I1t, V2t, I2t = solve_txline(f_v, Lpul, Cpul, l, Zs, Zl, Vs)"
   ]
  },
  {
   "cell_type": "code",
   "execution_count": 4,
   "metadata": {},
   "outputs": [
    {
     "data": {
      "application/vnd.jupyter.widget-view+json": {
       "model_id": "eac31f67fa5c422fa8ae928d37cdba24",
       "version_major": 2,
       "version_minor": 0
      },
      "text/plain": [
       "Canvas(toolbar=Toolbar(toolitems=[('Home', 'Reset original view', 'home', 'home'), ('Back', 'Back to previous …"
      ]
     },
     "metadata": {},
     "output_type": "display_data"
    }
   ],
   "source": [
    "fig = plt.figure()\n",
    "ax = fig.add_subplot(2,1,1)\n",
    "axp = fig.add_subplot(2,1,2, sharex=ax)\n",
    "\n",
    "xfcn = lambda x_ : x_/1e9\n",
    "yfcn = lambda y_ : dB(y_)\n",
    "\n",
    "ax.plot(xfcn(f_v), yfcn(V1), label='$V_1$ (LC)')\n",
    "ax.plot(xfcn(f_v), yfcn(V1t), label='$V_1$ (Tx Line)')\n",
    "\n",
    "yfcn = lambda y_ : np.unwrap(np.angle(y_))\n",
    "axp.plot(xfcn(f_v), yfcn(V1), label='$V_1$ (LC)')\n",
    "axp.plot(xfcn(f_v), yfcn(V1t), label='$V_1$ (Tx Line)')\n",
    "\n",
    "ax.grid(True)\n",
    "axp.grid(True)\n",
    "leg1 = ax.legend(loc='best')\n",
    "legend_alpha(leg1, 0.7)\n",
    "legend_linewidth(leg1, 1.5)\n",
    "\n",
    "ax.set_ylabel('dB')\n",
    "axp.set_ylabel('Phase (rad)')\n",
    "axp.set_xlabel('Frequency (GHz)')\n",
    "\n",
    "savefigure(fig, 'v1_%04d' % N, path='./figs')"
   ]
  },
  {
   "cell_type": "code",
   "execution_count": 5,
   "metadata": {},
   "outputs": [
    {
     "data": {
      "application/vnd.jupyter.widget-view+json": {
       "model_id": "ed0b5fe829df4ec08ac5dd717a491ebb",
       "version_major": 2,
       "version_minor": 0
      },
      "text/plain": [
       "Canvas(toolbar=Toolbar(toolitems=[('Home', 'Reset original view', 'home', 'home'), ('Back', 'Back to previous …"
      ]
     },
     "metadata": {},
     "output_type": "display_data"
    }
   ],
   "source": [
    "fig = plt.figure()\n",
    "ax = fig.add_subplot(2,1,1)\n",
    "axp = fig.add_subplot(2,1,2, sharex=ax)\n",
    "\n",
    "xfcn = lambda x_ : x_/1e9\n",
    "yfcn = lambda y_ : dB(y_)\n",
    "\n",
    "ax.plot(xfcn(f_v), yfcn(V2), label='$V_2$ (LC)')\n",
    "ax.plot(xfcn(f_v), yfcn(V2t), label='$V_2$ (Tx Line)')\n",
    "\n",
    "yfcn = lambda y_ : np.unwrap(np.angle(y_))\n",
    "axp.plot(xfcn(f_v), yfcn(V2), label='$V_2$ (LC)')\n",
    "axp.plot(xfcn(f_v), yfcn(V2t), label='$V_2$ (Tx Line)')\n",
    "\n",
    "ax.grid(True)\n",
    "axp.grid(True)\n",
    "leg1 = ax.legend(loc='best')\n",
    "legend_alpha(leg1, 0.7)\n",
    "legend_linewidth(leg1, 1.5)\n",
    "\n",
    "ax.set_ylabel('dB')\n",
    "axp.set_ylabel('Phase (rad)')\n",
    "axp.set_xlabel('Frequency (GHz)')\n",
    "\n",
    "savefigure(fig, 'v2_%04d' % N, path='./figs')"
   ]
  },
  {
   "cell_type": "code",
   "execution_count": 6,
   "metadata": {},
   "outputs": [
    {
     "data": {
      "application/vnd.jupyter.widget-view+json": {
       "model_id": "0b50b07146ba493b91ff802696a64471",
       "version_major": 2,
       "version_minor": 0
      },
      "text/plain": [
       "Canvas(toolbar=Toolbar(toolitems=[('Home', 'Reset original view', 'home', 'home'), ('Back', 'Back to previous …"
      ]
     },
     "metadata": {},
     "output_type": "display_data"
    },
    {
     "data": {
      "text/plain": [
       "<matplotlib.legend.Legend at 0x7f9def3318b0>"
      ]
     },
     "execution_count": 6,
     "metadata": {},
     "output_type": "execute_result"
    }
   ],
   "source": [
    "fig = plt.figure()\n",
    "ax = fig.add_subplot(1,1,1)\n",
    "\n",
    "xfcn = lambda x_ : x_/1e9\n",
    "yfcn = lambda y_ : dB(y_)\n",
    "\n",
    "ax.plot(xfcn(f_v), yfcn(V2), label='$V_2$ (LC)')\n",
    "ax.plot(xfcn(f_v), yfcn(V2t), label='$V_2$ (Tx Line)')\n",
    "ax.grid(True)\n",
    "leg1 = ax.legend(loc='best')\n",
    "legend_alpha(leg1, 0.7)\n",
    "legend_linewidth(leg1, 1.5)"
   ]
  },
  {
   "cell_type": "code",
   "execution_count": 7,
   "metadata": {},
   "outputs": [
    {
     "data": {
      "application/vnd.jupyter.widget-view+json": {
       "model_id": "fcfe59d6bfa643f9adf6fd35e304a591",
       "version_major": 2,
       "version_minor": 0
      },
      "text/plain": [
       "Canvas(toolbar=Toolbar(toolitems=[('Home', 'Reset original view', 'home', 'home'), ('Back', 'Back to previous …"
      ]
     },
     "metadata": {},
     "output_type": "display_data"
    },
    {
     "data": {
      "text/plain": [
       "<matplotlib.legend.Legend at 0x7f9def2a3670>"
      ]
     },
     "execution_count": 7,
     "metadata": {},
     "output_type": "execute_result"
    }
   ],
   "source": [
    "fig = plt.figure()\n",
    "ax = fig.add_subplot(1,1,1)\n",
    "\n",
    "xfcn = lambda x_ : x_/1e9\n",
    "yfcn = lambda y_ : np.unwrap(np.angle(y_))\n",
    "#yfcn = lambda y_ : (np.angle(y_))\n",
    "\n",
    "ax.plot(xfcn(f_v), yfcn(V1), label='$V_1$')\n",
    "ax.plot(xfcn(f_v), yfcn(V1t), label='$V_1^t$')\n",
    "ax.grid(True)\n",
    "leg1 = ax.legend(loc='best')\n",
    "legend_alpha(leg1, 0.7)\n",
    "legend_linewidth(leg1, 1.5)"
   ]
  },
  {
   "cell_type": "code",
   "execution_count": 8,
   "metadata": {},
   "outputs": [
    {
     "data": {
      "application/vnd.jupyter.widget-view+json": {
       "model_id": "edd46bc9125a4d9ebf8d2d4cc9cd5619",
       "version_major": 2,
       "version_minor": 0
      },
      "text/plain": [
       "Canvas(toolbar=Toolbar(toolitems=[('Home', 'Reset original view', 'home', 'home'), ('Back', 'Back to previous …"
      ]
     },
     "metadata": {},
     "output_type": "display_data"
    },
    {
     "data": {
      "text/plain": [
       "<matplotlib.legend.Legend at 0x7f9def361550>"
      ]
     },
     "execution_count": 8,
     "metadata": {},
     "output_type": "execute_result"
    }
   ],
   "source": [
    "fig = plt.figure()\n",
    "ax = fig.add_subplot(1,1,1)\n",
    "\n",
    "xfcn = lambda x_ : x_/1e9\n",
    "yfcn = lambda y_ : np.unwrap(np.angle(y_))\n",
    "#yfcn = lambda y_ : (np.angle(y_))\n",
    "\n",
    "ax.plot(xfcn(f_v), yfcn(V2), label='$V_2$')\n",
    "ax.plot(xfcn(f_v), yfcn(V2t), label='$V_2^t$')\n",
    "ax.grid(True)\n",
    "leg1 = ax.legend(loc='best')\n",
    "legend_alpha(leg1, 0.7)\n",
    "legend_linewidth(leg1, 1.5)"
   ]
  },
  {
   "cell_type": "code",
   "execution_count": null,
   "metadata": {},
   "outputs": [],
   "source": []
  }
 ],
 "metadata": {
  "kernelspec": {
   "display_name": "Python 3",
   "language": "python",
   "name": "python3"
  },
  "language_info": {
   "codemirror_mode": {
    "name": "ipython",
    "version": 3
   },
   "file_extension": ".py",
   "mimetype": "text/x-python",
   "name": "python",
   "nbconvert_exporter": "python",
   "pygments_lexer": "ipython3",
   "version": "3.8.10"
  }
 },
 "nbformat": 4,
 "nbformat_minor": 4
}
