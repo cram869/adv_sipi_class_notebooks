{
 "cells": [
  {
   "cell_type": "code",
   "execution_count": 6,
   "metadata": {},
   "outputs": [],
   "source": [
    "%matplotlib widget\n",
    "import matplotlib.pyplot as plt\n",
    "import numpy as np"
   ]
  },
  {
   "attachments": {},
   "cell_type": "markdown",
   "metadata": {},
   "source": [
    "The area between what would be a TDR response without a discontinuity and one with a capacitive discontinuity is represented by\n",
    "$$S = \\frac{V^+_1 Z_0 C}{2}\\left[ 1 - e^{-\\frac{2\\Delta t}{Z_0 C}} \\right]$$\n",
    "For a Newton Raphson solution, define a function $g(C)$ such that\n",
    "$$g(C) = \\frac{V^+_1 Z_0 C}{2}\\left[ 1 - e^{-\\frac{2\\Delta t}{Z_0 C}} \\right] - S$$"
   ]
  },
  {
   "cell_type": "code",
   "execution_count": 7,
   "metadata": {},
   "outputs": [],
   "source": [
    "def g_of_c(S, Z0, Vp, C, dt):\n",
    "  tau = Z0*C/2 # Time constant\n",
    "  g_ = Vp*tau * (1 - np.e**(-dt/tau)) - S\n",
    "  return g_\n",
    "\n",
    "def g_prime_of_c(Z0, Vp, C, dt):\n",
    "  tau = Z0*C/2\n",
    "  gp_ = Vp*Z0/2 * ( 1 - (1 + dt/tau)*np.e**(-dt/tau))\n",
    "  return gp_\n"
   ]
  },
  {
   "cell_type": "code",
   "execution_count": 8,
   "metadata": {},
   "outputs": [],
   "source": [
    "# Set the starting parameters\n",
    "Z0 = 50\n",
    "Vp = 0.5\n",
    "dt = 0.4e-9\n",
    "S = 6e-11\n",
    "\n",
    "# C_start = 1e-12"
   ]
  },
  {
   "cell_type": "code",
   "execution_count": 9,
   "metadata": {},
   "outputs": [
    {
     "name": "stdout",
     "output_type": "stream",
     "text": [
      "Starting Estimate:  4.8  pF\n"
     ]
    }
   ],
   "source": [
    "C_start_est = 2*S / (Vp*Z0)\n",
    "print(\"Starting Estimate: \", C_start_est * 1e12, \" pF\")"
   ]
  },
  {
   "cell_type": "code",
   "execution_count": 10,
   "metadata": {},
   "outputs": [
    {
     "name": "stdout",
     "output_type": "stream",
     "text": [
      "0 :\t\t 5.002546246323521 :\t\t 2.1404396008351425e-12\n",
      "1 :\t\t 5.004599098314092 :\t\t 2.126205958818675e-14\n",
      "2 :\t\t 5.004599310678075 :\t\t 2.1990682533957764e-18\n"
     ]
    }
   ],
   "source": [
    "iter_ = 0\n",
    "max_iter = 100\n",
    "err_ = 100*S\n",
    "Cnext = C_start_est\n",
    "while (err_ > S/10000.0) and iter_ < max_iter:\n",
    "  g_of_ck = g_of_c(S, Z0, Vp, Cnext, dt)\n",
    "  g_prime_of_ck = g_prime_of_c(Z0, Vp, Cnext, dt)\n",
    "  Cnext += -g_of_ck / g_prime_of_ck\n",
    "  err_ = np.abs(g_of_ck)\n",
    "\n",
    "  print(iter_, \":\\t\\t\", Cnext*1e12, \":\\t\\t\", err_)\n",
    "  iter_ += 1\n",
    "\n"
   ]
  }
 ],
 "metadata": {
  "kernelspec": {
   "display_name": "Python 3.8.10 ('base')",
   "language": "python",
   "name": "python3"
  },
  "language_info": {
   "codemirror_mode": {
    "name": "ipython",
    "version": 3
   },
   "file_extension": ".py",
   "mimetype": "text/x-python",
   "name": "python",
   "nbconvert_exporter": "python",
   "pygments_lexer": "ipython3",
   "version": "3.8.18"
  },
  "orig_nbformat": 4,
  "vscode": {
   "interpreter": {
    "hash": "5764602bc5e15974420ba0a3caed7061d770b6b7de350fe4980c5fe44de76677"
   }
  }
 },
 "nbformat": 4,
 "nbformat_minor": 2
}
