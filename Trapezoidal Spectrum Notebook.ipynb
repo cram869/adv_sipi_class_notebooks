{
 "cells": [
  {
   "cell_type": "code",
   "execution_count": 1,
   "id": "4b933582-fdc0-41a7-8a45-99c29139348a",
   "metadata": {},
   "outputs": [],
   "source": [
    "%matplotlib widget\n",
    "import numpy as np\n",
    "import matplotlib.pyplot as plt"
   ]
  },
  {
   "cell_type": "markdown",
   "id": "f884dcc9-94cd-40dc-88e6-64116a7ab156",
   "metadata": {},
   "source": [
    "# Module 1: Signals\n",
    "\n",
    "_Contents_\n",
    "* [Trapezoidal Waveforms](#trapwfm)\n",
    "* [Fourier Series Coefficients of a Trapezoidal Waveform](#trapwfmspec)\n",
    "* [Plotting the Spectra of Fourier Series](#trapwfmspecplot)\n",
    "* [Spectral Plots and Envelopes](#trapenvelope)"
   ]
  },
  {
   "cell_type": "markdown",
   "id": "0eedce67",
   "metadata": {},
   "source": [
    "\n",
    "## Trapezoidal Waveforms <a class=\"anchor\" id=\"trapwfm\"></a>\n",
    "\n",
    "A trapezoidal waveform is only one step more complicated than a perfect square wave.  The additional degrees of freedom we obtain with the trapezoidal shape are very useful.  Currently, we will consider the following parameters.\n",
    "- *Trise* ($\\tau_r$): rise time of the signal\n",
    "- *Tfall* ($\\tau_f$): fall time of the signal\n",
    "- *T* ($T$): Period of the waveform\n",
    "- *D*: duty cycle of the signal (or the ratio of the time spent on and off, at 1 and 0).  50% duty cycle is ideal.\n",
    "- *Tpulse* ($\\tau = D T$): Pulse width of the signal\n",
    "- *A*: Amplitude of the waveform. (i.e. peak-to-peak is 2A)\n",
    "- *A0* ($A_0$): DC offset\n"
   ]
  },
  {
   "cell_type": "code",
   "execution_count": 2,
   "id": "38b4facb-154e-49cd-9865-e8d21e60bc07",
   "metadata": {},
   "outputs": [],
   "source": [
    "def trapezoidal_wfm(t, T, Trise=1e-15, Tfall=1e-15, D=0.5, A=1, A0=0, DEBUG=False):\n",
    "    \"\"\"Generate a trapezoidal waveform.  This method is far from unique, and is\n",
    "    arguably less readable than if I had generated the same waveform with a \n",
    "    loop iteration for each signal period.\"\"\"\n",
    "    r0 = np.floor(t/T)\n",
    "    r = t/T - r0 # Creates a periodic array ranging from 0 - 1 based on the \n",
    "    # period of the waveform.\n",
    "    \n",
    "    # Rising edge\n",
    "    r_rise = Trise/T\n",
    "    rslope_rise = 2*A/r_rise\n",
    "    # Stay at A until hitting the falling edge, defined as r_mid below.\n",
    "\n",
    "    # Then, fall back to -A \n",
    "    # Falling edge\n",
    "    r_fall = Tfall/T\n",
    "    rslope_fall = 2*A/r_fall\n",
    "    # Stay at -A for the duration of the cycle (until r = 0 again)    \n",
    "    \n",
    "    # Midpoint, defined by the duty cycle, rise, and fall points.\n",
    "    r_mid = r_rise/2 + D - r_fall/2 # r_mid is calculated later b/c of dependence on r_fall.\n",
    "\n",
    "    if DEBUG:\n",
    "        print(0, r_rise, r_mid, r_mid+r_fall, 1)\n",
    "\n",
    "    # Each line of the following expression represents a phase in the waveform.\n",
    "    # Line 1: Rising Edge\n",
    "    # Line 2: High Level\n",
    "    # Line 3: Falling Edge\n",
    "    # Line 4: Low Level\n",
    "    # Line 5: DC offset\n",
    "    # The nature of this expression is that it is inherently periodic.\n",
    "    x = ((r >= 0)&(r < r_rise))*(r*rslope_rise - A) \\\n",
    "        + ((r >= r_rise)&(r < r_mid))*A \\\n",
    "        + ((r >= r_mid)&(r < r_fall+r_mid))*(A - (r-r_mid)*rslope_fall) \\\n",
    "        + ((r >= r_fall+r_mid)&(r < 1))*(-A)\\\n",
    "        + A0\n",
    "        \n",
    "    return x\n"
   ]
  },
  {
   "cell_type": "code",
   "execution_count": 3,
   "id": "fe5970b5-dd56-4819-be18-60367ee5eac0",
   "metadata": {},
   "outputs": [
    {
     "name": "stdout",
     "output_type": "stream",
     "text": [
      "0 0.125 0.5 0.625 1\n"
     ]
    },
    {
     "data": {
      "application/vnd.jupyter.widget-view+json": {
       "model_id": "8a46fc42dc244e4c8677767384dd8e44",
       "version_major": 2,
       "version_minor": 0
      },
      "text/plain": [
       "Canvas(toolbar=Toolbar(toolitems=[('Home', 'Reset original view', 'home', 'home'), ('Back', 'Back to previous …"
      ]
     },
     "metadata": {},
     "output_type": "display_data"
    },
    {
     "name": "stdout",
     "output_type": "stream",
     "text": [
      "1.9997501249375311\n"
     ]
    }
   ],
   "source": [
    "t = np.linspace(0,100,2001)\n",
    "x = trapezoidal_wfm(t, 20, Trise=2.5, Tfall=2.5, D=0.5, A=0.5, A0=2, DEBUG=True)\n",
    "\n",
    "fig, ax = plt.subplots(1,1)\n",
    "ax.plot(t,x)\n",
    "ax.grid(True)\n",
    "ax.set_title('Time-Domain Representation of a Trapezoidal Waveform')\n",
    "ax.set_ylabel('Signal Level (V)') # I am arbitrarily declaring this signal a voltage.\n",
    "ax.set_xlabel('Time (s)')\n",
    "\n",
    "print(np.mean(x))"
   ]
  },
  {
   "cell_type": "markdown",
   "id": "d2d59c55-a0ed-46d1-b04b-92e26a8a6286",
   "metadata": {},
   "source": [
    "The trapezoida waveform from `trapezoidal_wfm` was broken into five pieces.  Two of those pieces, the rising and falling edges, are ramps.  The other three components are constant values.  The high level and the low level mark times when the waveform is at a constant level, and the DC offset is a constant adder for all time.\n",
    "\n",
    "This representation is not the only way to mark the trapezoidal wave.  For the purposes of calculating the frequency components of the waveform, we can write the waveform entirely out of scaled unit ramp functions.  This version of the waveform is more useful when we attempt to calculate the spectrum of an arbitrary bit pattern generated out of trapezoidal-shaped pulses.  The function below, `trapezoidal_wfm2`, takes the same arguments as the previous version, but creates the waveform using only ramp type expressions on each line of the calculation of `x`. "
   ]
  },
  {
   "cell_type": "code",
   "execution_count": 4,
   "id": "169e9707-3149-4ace-94d6-3326cd673e13",
   "metadata": {},
   "outputs": [],
   "source": [
    "def trapezoidal_wfm2(t, T, Trise=1e-15, Tfall=1e-15, D=0.5, A=1, A0=0, DEBUG=False):\n",
    "    \"\"\"Generate a trapezoidal waveform.  This method is far from unique, and is\n",
    "    arguably less readable than if I had generated the same waveform with a \n",
    "    loop iteration for each signal period.\"\"\"\n",
    "    r0 = np.floor(t/T)\n",
    "    r = t/T - r0 # Creates a periodic array ranging from 0 - 1 based on the \n",
    "    # period of the waveform.\n",
    "    \n",
    "    # Rising edge\n",
    "    r_rise = Trise/T\n",
    "    rslope_rise = 2*A/r_rise\n",
    "    # Stay at A until hitting the falling edge, defined by r_mid (calculated after r_fall).\n",
    "    # Then, fall back to -A \n",
    "    # Falling edge\n",
    "    r_fall = Tfall/T\n",
    "    rslope_fall = 2*A/r_fall\n",
    "    # Stay at -A for the duration of the cycle (until r = 0 again)\n",
    "    # \n",
    "    # Midpoint, defined by the duty cycle, rise, and fall points.\n",
    "    r_mid = r_rise/2 + D - r_fall/2 # r_mid is calculated later b/c of dependence on r_fall.\n",
    "  \n",
    "    if DEBUG:\n",
    "        print(0, r_rise, r_mid, r_mid+r_fall, 1)\n",
    "    \n",
    "    # Each line is a different unit ramp with a scaling factor.\n",
    "    # Line 1: Rising edge ramp\n",
    "    # Line 2: Ramp to counter the rising edge ramp\n",
    "    # Line 3: Falling edge ramp\n",
    "    # Line 4: Ramp to counter the falling edge ramp\n",
    "    # Line 5: DC offset\n",
    "    # The nature of this expression is that it is inherently periodic.\n",
    "    x = (r >= 0)*(r*rslope_rise - A) \\\n",
    "        + (r >= r_rise)*(-(r-r_rise)*rslope_rise) \\\n",
    "        + (r >= r_mid)*(-(r-r_mid)*rslope_fall) \\\n",
    "        + (r >= r_fall+r_mid)*((r-(r_fall+r_mid))*rslope_fall)\\\n",
    "        + A0\n",
    "        \n",
    "    return x\n"
   ]
  },
  {
   "cell_type": "code",
   "execution_count": 5,
   "id": "18ed2a8f-d4cb-44ef-9498-0bb8cfb3e609",
   "metadata": {},
   "outputs": [
    {
     "name": "stdout",
     "output_type": "stream",
     "text": [
      "0 0.125 0.5 0.625 1\n"
     ]
    },
    {
     "data": {
      "application/vnd.jupyter.widget-view+json": {
       "model_id": "833fab86a34e4834828c4bf1edcc9757",
       "version_major": 2,
       "version_minor": 0
      },
      "text/plain": [
       "Canvas(toolbar=Toolbar(toolitems=[('Home', 'Reset original view', 'home', 'home'), ('Back', 'Back to previous …"
      ]
     },
     "metadata": {},
     "output_type": "display_data"
    },
    {
     "name": "stdout",
     "output_type": "stream",
     "text": [
      "1.9997501249375311\n"
     ]
    }
   ],
   "source": [
    "t = np.linspace(0,100,2001)\n",
    "x = trapezoidal_wfm2(t, 20, Trise=2.5, Tfall=2.5, D=0.5, A=0.5, A0=2, DEBUG=True)\n",
    "\n",
    "fig, ax = plt.subplots(1,1)\n",
    "ax.plot(t,x)\n",
    "ax.grid(True)\n",
    "ax.set_title('Time-Domain Representation of a Trapezoidal Waveform')\n",
    "ax.set_ylabel('Signal Level (V)') # I am arbitrarily declaring this signal a voltage.\n",
    "ax.set_xlabel('Time (s)')\n",
    "\n",
    "print(np.mean(x))"
   ]
  },
  {
   "cell_type": "markdown",
   "id": "7ca43564",
   "metadata": {},
   "source": [
    "## Fourier Series Coefficients of a Trapezoidal Waveform <a class=\"anchor\" id=\"trapwfmspec\"></a>\n",
    "\n",
    "As a periodic waveform, the trapezoidal waveform can be represented by a Fourier series.  The function `trapezoidal_fs_coeff` calculates the `n`th coefficient for a trapezoidal waveform.  This function calculates double-sided spectral components rather than single-sided.  \n",
    "$$D_n = \\frac{1}{T_0} \\int_0^{T_0} x(t) e^{-2\\pi n f_0 t} dt,\\ \\forall n \\in \\mathbb{Z}$$\n",
    "Using a sequence of the coefficients with the exponential basis function,\n",
    "$$x(t) = \\sum_{n=-\\infty}^\\infty D_n e^{j 2\\pi n f_0 t}\\ ,$$\n",
    "The trapezoidal waveform can be reconstructed, albeit in a band-limited fashion."
   ]
  },
  {
   "cell_type": "code",
   "execution_count": 6,
   "id": "08229457-203a-4ae9-a1d9-fc3c71f73998",
   "metadata": {},
   "outputs": [],
   "source": [
    "# Trapezoidal Fourier Series Coefficient Calculations\n",
    "def trapezoidal_fs_coeff(T, n, Trise=1e-15, Tfall=1e-15, D=0.5, A=1, A0=0, print_coeff=False, zero_tol=1e-18):\n",
    "    \"\"\"\n",
    "    $$D_n = \\frac{1}{T_0} \\int_0^{T_0} x(t) e^{-j 2\\pi n f_0 t} dt$$\n",
    "    \n",
    "    $$x(t) = \\sum_{n=-\\infty}^\\infty D_n e^{j 2\\pi n f_0 t}$$\n",
    "    \"\"\"\n",
    "    # The DC term D_0 = A0.\n",
    "    if n == 0:\n",
    "        D0 = A0 + A*(2*D-1)\n",
    "        return D0\n",
    "    \n",
    "    # The remainder of this function assume n > 0.  \n",
    "    def const_term_integration(T, n, a, b):\n",
    "        \"\"\"\n",
    "        $$I_0 = \\int_a^b e^{-j 2\\pi n f_0 t} dt$$\n",
    "        \"\"\"\n",
    "        f0 = 1./T\n",
    "        alpha = -2j*np.pi*n*f0\n",
    "        I = 1./alpha * (np.e**(alpha*b) - np.e**(alpha*a))\n",
    "        return I\n",
    "    \n",
    "    def ramp_term_integration(T, n, a, b):\n",
    "        \"\"\"\n",
    "        $$I_1 = \\int_a^b t e^{-j 2\\pi n f_0 t} dt$$\n",
    "        \"\"\"\n",
    "        f0 = 1./T\n",
    "        alpha = -2j*np.pi*n*f0\n",
    "        I = 1./alpha * (b*np.e**(alpha*b) - a*np.e**(alpha*a)) \\\n",
    "            - 1./(alpha*alpha) * (np.e**(alpha*b) - np.e**(alpha*a))\n",
    "        return I\n",
    "    \n",
    "    Tpulse = D*T\n",
    "    t1 = 0\n",
    "    t2 = Trise\n",
    "    t3 = Trise/2 + Tpulse - Tfall/2\n",
    "    t4 = t3 + Tfall\n",
    "    t5 = T\n",
    "\n",
    "    Irise = (2*A/Trise) * ramp_term_integration(T, n, t1, t2) \\\n",
    "        + (A0 - A) * const_term_integration(T, n, t1, t2)\n",
    "    Ihigh = (A0 + A) * const_term_integration(T, n, t2, t3)\n",
    "    Ifall = (A0 + A + 2*A*t3/Tfall) * const_term_integration(T, n, t3, t4) \\\n",
    "        - (2*A/Tfall) * ramp_term_integration(T, n, t3, t4)\n",
    "    Ilow = (A0 - A) * const_term_integration(T, n, t4, t5)\n",
    "    \n",
    "    Dn = (Irise + Ihigh + Ifall + Ilow)/T\n",
    "    if np.abs(Dn) < zero_tol:\n",
    "        Dn = 0. + 0j\n",
    "    \n",
    "    if print_coeff:\n",
    "        print(\"D[%d] = %.3g at %.1f deg\" % (n, np.abs(Dn), (180*np.angle(Dn)/np.pi)))\n",
    "    return Dn\n",
    "\n",
    "def trapezoidal_fs_approx(t, N, T, Trise=1e-15, Tfall=1e-15, D=0.5, A=1, A0=0, print_coeff=False, zero_tol=1e-18):\n",
    "    \"\"\"\n",
    "    Approximate the time-domain waveform with an incomplete number of Fourier terms.\n",
    "    \"\"\"\n",
    "    xapprox = np.zeros(t.shape, dtype=np.complex128)\n",
    "    \n",
    "    for n in range(-N, N+1):\n",
    "        Dn = trapezoidal_fs_coeff(T, n, Trise, Tfall, D, A, A0, print_coeff=print_coeff, zero_tol=zero_tol)\n",
    "        exp = np.e**(2j*np.pi*n*t/T)\n",
    "        xapprox += Dn*exp\n",
    "    \n",
    "    return np.real(xapprox)\n"
   ]
  },
  {
   "cell_type": "code",
   "execution_count": 7,
   "id": "07ada2a3-f60b-4da1-a8b8-712ca3363e03",
   "metadata": {},
   "outputs": [
    {
     "name": "stdout",
     "output_type": "stream",
     "text": [
      "D[-10] = 0.0203 at 180.0 deg\n",
      "D[-9] = 0.0175 at 126.0 deg\n",
      "D[-8] = 0 at 0.0 deg\n",
      "D[-7] = 0.0261 at -162.0 deg\n",
      "D[-6] = 0.0455 at 144.0 deg\n",
      "D[-5] = 0.0405 at 90.0 deg\n",
      "D[-4] = 0 at 0.0 deg\n",
      "D[-3] = 0.0723 at 162.0 deg\n",
      "D[-2] = 0.157 at 108.0 deg\n",
      "D[-1] = 0.224 at 54.0 deg\n",
      "D[1] = 0.224 at -54.0 deg\n",
      "D[2] = 0.157 at -108.0 deg\n",
      "D[3] = 0.0723 at -162.0 deg\n",
      "D[4] = 0 at 0.0 deg\n",
      "D[5] = 0.0405 at -90.0 deg\n",
      "D[6] = 0.0455 at -144.0 deg\n",
      "D[7] = 0.0261 at 162.0 deg\n",
      "D[8] = 0 at 0.0 deg\n",
      "D[9] = 0.0175 at -126.0 deg\n",
      "D[10] = 0.0203 at -180.0 deg\n"
     ]
    },
    {
     "data": {
      "application/vnd.jupyter.widget-view+json": {
       "model_id": "f614c51228724dc0a7318299b03a40d4",
       "version_major": 2,
       "version_minor": 0
      },
      "text/plain": [
       "Canvas(toolbar=Toolbar(toolitems=[('Home', 'Reset original view', 'home', 'home'), ('Back', 'Back to previous …"
      ]
     },
     "metadata": {},
     "output_type": "display_data"
    },
    {
     "data": {
      "text/plain": [
       "<matplotlib.legend.Legend at 0x7f21bd9d3a60>"
      ]
     },
     "execution_count": 7,
     "metadata": {},
     "output_type": "execute_result"
    }
   ],
   "source": [
    "t = np.linspace(0,100,2001)\n",
    "Na = 1\n",
    "Nb = 3\n",
    "Nc = 10\n",
    "T = 20\n",
    "Trise=1\n",
    "Tfall=1\n",
    "D=0.25\n",
    "A=0.5\n",
    "A0=0.5\n",
    "x = trapezoidal_wfm2(t, T, Trise, Tfall, D, A, A0)\n",
    "xa = trapezoidal_fs_approx(t, Na, T, Trise, Tfall, D, A, A0)\n",
    "xb = trapezoidal_fs_approx(t, Nb, T, Trise, Tfall, D, A, A0)\n",
    "xc = trapezoidal_fs_approx(t, Nc, T, Trise, Tfall, D, A, A0, print_coeff=True, zero_tol=1e-16)\n",
    "\n",
    "fig, ax = plt.subplots(1,1)\n",
    "ax.plot(t, x, label='Exact', zorder=5)\n",
    "ax.plot(t, xa, label='%d Terms' % Na, zorder=4)\n",
    "ax.plot(t, xb, label='%d Terms' % Nb, zorder=3)\n",
    "ax.plot(t, xc, label='%d Terms' % Nc, zorder=2)\n",
    "ax.grid(True)\n",
    "ax.set_title('Time-Domain Representation of a Trapezoidal Waveform')\n",
    "ax.set_ylabel('Signal Level (V)') # I am arbitrarily declaring this signal a voltage.\n",
    "ax.set_xlabel('Time (s)')\n",
    "ax.legend(loc='best')"
   ]
  },
  {
   "cell_type": "markdown",
   "id": "04bc9fd3",
   "metadata": {},
   "source": [
    "The next plot is of the same waveform, but the view is focused on the ripples at the peak of one of the pulses."
   ]
  },
  {
   "cell_type": "code",
   "execution_count": 8,
   "id": "0f653dd7",
   "metadata": {},
   "outputs": [
    {
     "data": {
      "application/vnd.jupyter.widget-view+json": {
       "model_id": "3c99a68daa9644d9ae58226235e41be0",
       "version_major": 2,
       "version_minor": 0
      },
      "text/plain": [
       "Canvas(toolbar=Toolbar(toolitems=[('Home', 'Reset original view', 'home', 'home'), ('Back', 'Back to previous …"
      ]
     },
     "metadata": {},
     "output_type": "display_data"
    },
    {
     "data": {
      "text/plain": [
       "(0.5, 1.2)"
      ]
     },
     "execution_count": 8,
     "metadata": {},
     "output_type": "execute_result"
    }
   ],
   "source": [
    "fig, ax = plt.subplots(1,1)\n",
    "ax.plot(t, x, label='Exact', zorder=5)\n",
    "ax.plot(t, xa, label='%d Terms' % Na, zorder=4)\n",
    "ax.plot(t, xb, label='%d Terms' % Nb, zorder=3)\n",
    "ax.plot(t, xc, label='%d Terms' % Nc, zorder=2)\n",
    "ax.grid(True)\n",
    "ax.set_title('Time-Domain Representation of a Trapezoidal Waveform')\n",
    "ax.set_ylabel('Signal Level (V)') # I am arbitrarily declaring this signal a voltage.\n",
    "ax.set_xlabel('Time (s)')\n",
    "ax.legend(loc='best')\n",
    "ax.set_xlim(0, T/2*1.2)\n",
    "ax.set_ylim(A0, 1.2*(A+A0))"
   ]
  },
  {
   "cell_type": "markdown",
   "id": "6e5be711",
   "metadata": {},
   "source": [
    "The figure above shows original time-domain waveform constructed from `trapezoidal_wfm2` and additional reconstructions using different numbers of Fourier series terms with `trapezoidal_fs_approx`.  The DC term, $D_0$, is included in all of the approximations, plus a number of sinusoidal terms.  Despite the earlier description that we are calculating double-sided spectral coefficients.  The assembly is done two at a time, taking both the positive, $D_k$, term and negative, $D_{-k}$, term at the same time.  For a real function,\n",
    "$$D_{-k} = D_{k}^\\ast\\,$$\n",
    "where $^\\ast$ denotes the complex conjugate.\n",
    "\n",
    "As more terms are added to the approximation, the waveform approaches the original time-domain waveform.  "
   ]
  },
  {
   "cell_type": "code",
   "execution_count": 9,
   "id": "91739751",
   "metadata": {},
   "outputs": [
    {
     "name": "stdout",
     "output_type": "stream",
     "text": [
      "D[-10] = 0 at 0.0 deg\n",
      "D[-9] = 0.0025 at 180.0 deg\n",
      "D[-8] = 0 at 0.0 deg\n",
      "D[-7] = 0.00414 at 180.0 deg\n",
      "D[-6] = 0 at 0.0 deg\n",
      "D[-5] = 0.00811 at 180.0 deg\n",
      "D[-4] = 0 at 0.0 deg\n",
      "D[-3] = 0.0225 at 180.0 deg\n",
      "D[-2] = 0 at 0.0 deg\n",
      "D[-1] = 0.203 at 180.0 deg\n",
      "D[1] = 0.203 at 180.0 deg\n",
      "D[2] = 0 at 0.0 deg\n",
      "D[3] = 0.0225 at -180.0 deg\n",
      "D[4] = 0 at 0.0 deg\n",
      "D[5] = 0.00811 at -180.0 deg\n",
      "D[6] = 0 at 0.0 deg\n",
      "D[7] = 0.00414 at -180.0 deg\n",
      "D[8] = 0 at 0.0 deg\n",
      "D[9] = 0.0025 at -180.0 deg\n",
      "D[10] = 0 at 0.0 deg\n"
     ]
    },
    {
     "data": {
      "application/vnd.jupyter.widget-view+json": {
       "model_id": "8450b8fb2cd742309e8d5ae37d2dac81",
       "version_major": 2,
       "version_minor": 0
      },
      "text/plain": [
       "Canvas(toolbar=Toolbar(toolitems=[('Home', 'Reset original view', 'home', 'home'), ('Back', 'Back to previous …"
      ]
     },
     "metadata": {},
     "output_type": "display_data"
    },
    {
     "data": {
      "text/plain": [
       "<matplotlib.legend.Legend at 0x7f21dc10b700>"
      ]
     },
     "execution_count": 9,
     "metadata": {},
     "output_type": "execute_result"
    }
   ],
   "source": [
    "t = np.linspace(0,100,2001)\n",
    "Na = 1\n",
    "Nb = 3\n",
    "Nc = 10\n",
    "T = 20\n",
    "Trise=T/2\n",
    "Tfall=T/2\n",
    "D=0.5\n",
    "A=0.5\n",
    "A0=0.5\n",
    "x = trapezoidal_wfm2(t, T, Trise, Tfall, D, A, A0)\n",
    "xa = trapezoidal_fs_approx(t, Na, T, Trise, Tfall, D, A, A0)\n",
    "xb = trapezoidal_fs_approx(t, Nb, T, Trise, Tfall, D, A, A0)\n",
    "xc = trapezoidal_fs_approx(t, Nc, T, Trise, Tfall, D, A, A0, print_coeff=True)\n",
    "\n",
    "fig, ax = plt.subplots(1,1)\n",
    "ax.plot(t, x, label='Exact', zorder=5)\n",
    "ax.plot(t, xa, label='%d Terms' % Na, zorder=4)\n",
    "ax.plot(t, xb, label='%d Terms' % Nb, zorder=3)\n",
    "ax.plot(t, xc, label='%d Terms' % Nc, zorder=2)\n",
    "ax.grid(True)\n",
    "ax.set_title('Time-Domain Representation of a Trapezoidal Waveform')\n",
    "ax.set_ylabel('Signal Level (V)') # I am arbitrarily declaring this signal a voltage.\n",
    "ax.set_xlabel('Time (s)')\n",
    "ax.legend(loc='best')"
   ]
  },
  {
   "cell_type": "markdown",
   "id": "91170eaa",
   "metadata": {},
   "source": [
    "## Plotting the Spectra of Fourier Series <a class=\"anchor\" id=\"trapwfmspecplot\"></a>\n",
    "\n",
    "Printing out the coefficients as the previous cells did with the coefficients used to generate the approximate waveforms is useful, but plots are much better to convey how the spectra changes with time.  Because the functions we have generated are periodic, the spectra associated with them are discrete.  The function `trapezoidal_fourier_series_spectrum` takes many of the same arguments that previous functions in this notebook have.  This function collects all of the complex spectral coefficients and returns a frequency vector and coefficient vector.  "
   ]
  },
  {
   "cell_type": "code",
   "execution_count": 10,
   "id": "dfc4a883",
   "metadata": {},
   "outputs": [],
   "source": [
    "def trapezoidal_fourier_series_spectrum(N, T, Trise=1e-15, Tfall=1e-15, D=0.5, A=1, A0=0, print_coeff=False, zero_tol=1e-18):\n",
    "    \"\"\"\n",
    "    Return a frequency vector and coefficients a trapezoidal waveform.\n",
    "    \"\"\"\n",
    "    xapprox = np.zeros(t.shape, dtype=np.complex128)\n",
    "    \n",
    "    nv = np.arange(-N, N+1)\n",
    "    fv = nv/T # f0 = 1/T ==> fn = n f0\n",
    "    Dv = []\n",
    "    for n in nv:\n",
    "        Dn = trapezoidal_fs_coeff(T, n, Trise, Tfall, D, A, A0, print_coeff=print_coeff, zero_tol=zero_tol)\n",
    "        Dv.append(Dn)    \n",
    "    return fv, np.array(Dv)\n"
   ]
  },
  {
   "cell_type": "markdown",
   "id": "6e69953f",
   "metadata": {},
   "source": [
    "The next cell calculates and plots the spectra of a sawtooth, or triangle, waveform.  As shown previously, this waveform can be synthesized with the same trapezoidal functions.  For a sawtooth/triangle, $t_r = t_f = T/2$.  The waveform does not dwell at either extrema but immediately changes direction.   "
   ]
  },
  {
   "cell_type": "code",
   "execution_count": 11,
   "id": "e35597f9-02ff-446f-8963-e5b2faf29edf",
   "metadata": {},
   "outputs": [
    {
     "data": {
      "application/vnd.jupyter.widget-view+json": {
       "model_id": "9a376efc118a4b6a8fd1c1d064e706eb",
       "version_major": 2,
       "version_minor": 0
      },
      "text/plain": [
       "Canvas(toolbar=Toolbar(toolitems=[('Home', 'Reset original view', 'home', 'home'), ('Back', 'Back to previous …"
      ]
     },
     "metadata": {},
     "output_type": "display_data"
    },
    {
     "name": "stderr",
     "output_type": "stream",
     "text": [
      "<ipython-input-11-b097e6bedccf>:10: RuntimeWarning: divide by zero encountered in log10\n",
      "  dB = lambda y_ : 20*np.log10(np.abs(y_))\n"
     ]
    }
   ],
   "source": [
    "# Calculate some spectral elements.\n",
    "N = 10\n",
    "T = 1/2e3 # Note I changed T to create a 2 kHz fundamental waveform.\n",
    "Trise=0.5*T\n",
    "Tfall=0.5*T\n",
    "D=0.5\n",
    "A=0.5\n",
    "A0=0.5\n",
    "fv, Dv = trapezoidal_fourier_series_spectrum(N, T, Trise, Tfall, D, A, A0, zero_tol=1e-12)\n",
    "dB = lambda y_ : 20*np.log10(np.abs(y_)) \n",
    "phase_raw = lambda y_ : (np.angle(y_))\n",
    "phase = np.vectorize(lambda y_ : phase_raw(y_) if phase_raw(y_) > -np.pi*0.99 else phase_raw(y_) + 2*np.pi)\n",
    "\n",
    "fig, axs = plt.subplots(2,1)\n",
    "fig.subplots_adjust(hspace=0.05)\n",
    "ax = axs[0]\n",
    "ax.stem(fv/1e3, dB(Dv/1e-6))\n",
    "ax.grid(True)\n",
    "ax.set_ylabel(\"$\\|D_n\\|$ (dB$\\mu$V)\")\n",
    "ax.set_xticklabels([])\n",
    "ax.set_title('$T = %.3f\\ ms,\\ t_r = %.4f\\ ms,\\ t_f = %.4f\\ ms$' % tuple(np.array([T, Trise, Tfall])*1e3))\n",
    "\n",
    "ax = axs[1]\n",
    "ax.stem(fv/1e3, phase(Dv))\n",
    "ax.set_yticks(np.arange(0,5)/4*np.pi)\n",
    "ax.set_yticklabels([\"0\", \"$\\pi/4$\", \"$\\pi/2$\", \"$3\\pi/4$\", \"$\\pi$\"])\n",
    "ax.set_ylabel(\"$\\phi_n$ (rad)\")\n",
    "ax.set_xlabel('Frequency (kHz)')\n",
    "ax.grid(True)\n",
    "\n",
    "fig.suptitle('Trapezoidal Spectral Coefficients: Magnitude and Phase')\n",
    "\n",
    "f_saw, D_saw = fv, Dv"
   ]
  },
  {
   "cell_type": "code",
   "execution_count": 12,
   "id": "29e5474a",
   "metadata": {},
   "outputs": [
    {
     "data": {
      "application/vnd.jupyter.widget-view+json": {
       "model_id": "ff8772e22b834321b7f2ee69cf6d82c9",
       "version_major": 2,
       "version_minor": 0
      },
      "text/plain": [
       "Canvas(toolbar=Toolbar(toolitems=[('Home', 'Reset original view', 'home', 'home'), ('Back', 'Back to previous …"
      ]
     },
     "metadata": {},
     "output_type": "display_data"
    },
    {
     "name": "stderr",
     "output_type": "stream",
     "text": [
      "<ipython-input-12-42b79012891f>:10: RuntimeWarning: divide by zero encountered in log10\n",
      "  dB = lambda y_ : 20*np.log10(np.abs(y_))\n"
     ]
    }
   ],
   "source": [
    "# Calculate some spectral elements.\n",
    "N = 10\n",
    "T = 1/2e3 # Note I changed T to create a 2 kHz fundamental waveform.\n",
    "Trise=0.00001*T\n",
    "Tfall=0.00001*T\n",
    "D=0.5\n",
    "A=0.5\n",
    "A0=0.5\n",
    "fv, Dv = trapezoidal_fourier_series_spectrum(N, T, Trise, Tfall, D, A, A0, zero_tol=1e-12)\n",
    "dB = lambda y_ : 20*np.log10(np.abs(y_)) \n",
    "phase_raw = lambda y_ : (np.angle(y_))\n",
    "phase = np.vectorize(lambda y_ : phase_raw(y_) if phase_raw(y_) > -np.pi*0.99 else phase_raw(y_) + 2*np.pi)\n",
    "\n",
    "fig, axs = plt.subplots(2,1)\n",
    "fig.subplots_adjust(hspace=0.05)\n",
    "ax = axs[0]\n",
    "ax.stem(fv/1e3, dB(Dv/1e-6))\n",
    "ax.grid(True)\n",
    "ax.set_ylabel(\"$\\|D_n\\|$ (dB$\\mu$V)\")\n",
    "ax.set_xticklabels([])\n",
    "ax.set_title('$T = %.3f\\ ms,\\ t_r = %.4f\\ ms,\\ t_f = %.4f\\ ms$' % tuple(np.array([T, Trise, Tfall])*1e3))\n",
    "\n",
    "ax = axs[1]\n",
    "ax.stem(fv/1e3, phase(Dv))\n",
    "ax.set_yticks(np.arange(-4,5)/4*np.pi)\n",
    "ax.set_yticklabels([\"$-\\pi$\", \"$-3\\pi/4$\", \"$-\\pi/2$\", \"$-\\pi/4$\", \"0\", \"$\\pi/4$\", \"$\\pi/2$\", \"$3\\pi/4$\", \"$\\pi$\"])\n",
    "ax.set_ylabel(\"$\\phi_n$ (rad)\")\n",
    "ax.set_xlabel('Frequency (kHz)')\n",
    "ax.grid(True)\n",
    "\n",
    "fig.suptitle('Trapezoidal Spectral Coefficients: Magnitude and Phase')\n",
    "\n",
    "f_sqr, D_sqr = fv, Dv"
   ]
  },
  {
   "cell_type": "code",
   "execution_count": 13,
   "id": "4674518c",
   "metadata": {},
   "outputs": [],
   "source": [
    "# Make one case in between the other two that is a more true trapezoidal waveform.\n",
    "N = 10\n",
    "T = 1/2e3 # Note I changed T to create a 2 kHz fundamental waveform.\n",
    "Trise=0.1*T\n",
    "Tfall=0.1*T\n",
    "D=0.5\n",
    "A=0.5\n",
    "A0=0.5\n",
    "fv, Dv = trapezoidal_fourier_series_spectrum(N, T, Trise, Tfall, D, A, A0, zero_tol=1e-12)\n",
    "f_trap, D_trap = fv, Dv"
   ]
  },
  {
   "cell_type": "code",
   "execution_count": 14,
   "id": "447b89b6",
   "metadata": {},
   "outputs": [
    {
     "data": {
      "application/vnd.jupyter.widget-view+json": {
       "model_id": "bf44f563fee64c95bbfdd0f22df69380",
       "version_major": 2,
       "version_minor": 0
      },
      "text/plain": [
       "Canvas(toolbar=Toolbar(toolitems=[('Home', 'Reset original view', 'home', 'home'), ('Back', 'Back to previous …"
      ]
     },
     "metadata": {},
     "output_type": "display_data"
    },
    {
     "name": "stderr",
     "output_type": "stream",
     "text": [
      "<ipython-input-12-42b79012891f>:10: RuntimeWarning: divide by zero encountered in log10\n",
      "  dB = lambda y_ : 20*np.log10(np.abs(y_))\n",
      "<ipython-input-12-42b79012891f>:10: RuntimeWarning: divide by zero encountered in log10\n",
      "  dB = lambda y_ : 20*np.log10(np.abs(y_))\n",
      "<ipython-input-12-42b79012891f>:10: RuntimeWarning: divide by zero encountered in log10\n",
      "  dB = lambda y_ : 20*np.log10(np.abs(y_))\n"
     ]
    },
    {
     "data": {
      "text/plain": [
       "Text(0.5, 0.98, 'Trapezoidal Spectral Coefficients: Magnitude and Phase')"
      ]
     },
     "execution_count": 14,
     "metadata": {},
     "output_type": "execute_result"
    }
   ],
   "source": [
    "# Plot the two spectra together on one set of axes.\n",
    "fig, axs = plt.subplots(2,1, sharex=True)\n",
    "fig.subplots_adjust(hspace=0.05)\n",
    "ax = axs[0]\n",
    "ax.stem(f_sqr/1e3, dB(D_sqr/1e-6))\n",
    "ax.stem(f_saw/1e3, dB(D_saw/1e-6), markerfmt='Dg', linefmt='g')\n",
    "ax.stem(f_trap/1e3, dB(D_trap/1e-6), label='Trapezoid', markerfmt='sr', linefmt='r')\n",
    "ax.grid(True)\n",
    "ax.set_ylabel(\"$\\|D_n\\|$ (dB$\\mu$V)\")\n",
    "ax.set_xticklabels([])\n",
    "\n",
    "ax = axs[1]\n",
    "ax.stem(f_sqr/1e3, phase(D_sqr), label='Square')\n",
    "ax.stem(f_saw/1e3, phase(D_saw), label='Triangle', markerfmt='Dg', linefmt='g')\n",
    "ax.stem(f_trap/1e3, phase(D_trap), label='Trapezoid', markerfmt='sr', linefmt='r')\n",
    "ax.set_yticks(np.arange(-4,5)/4*np.pi)\n",
    "ax.set_yticklabels([\"$-\\pi$\", \"$-3\\pi/4$\", \"$-\\pi/2$\", \"$-\\pi/4$\", \"0\", \"$\\pi/4$\", \"$\\pi/2$\", \"$3\\pi/4$\", \"$\\pi$\"])\n",
    "ax.set_ylabel(\"$\\phi_n$ (rad)\")\n",
    "ax.set_xlabel('Frequency (kHz)')\n",
    "ax.grid(True)\n",
    "leg = ax.legend(loc='best')\n",
    "\n",
    "fig.suptitle('Trapezoidal Spectral Coefficients: Magnitude and Phase')"
   ]
  },
  {
   "cell_type": "markdown",
   "id": "4129c620",
   "metadata": {},
   "source": [
    "The triangle wave coefficients fall off faster than the approximate square wave coefficients.  Both have significant high frequency components, which means each will likely require a number of frequency terms to ensure a reasonable match.  Likewise, a low bandwidth channel will limit the performance of either as a signal carrier."
   ]
  },
  {
   "cell_type": "code",
   "execution_count": 15,
   "metadata": {},
   "outputs": [],
   "source": [
    "# Make one case in between the other two that is a more true trapezoidal waveform.\n",
    "N = 10\n",
    "T = 1/2e3 # Note I changed T to create a 2 kHz fundamental waveform.\n",
    "Trise=0.01*T\n",
    "Tfall=Trise\n",
    "D=0.5\n",
    "A=0.5\n",
    "A0=0.5\n",
    "fv, Dv = trapezoidal_fourier_series_spectrum(N, T, Trise, Tfall, D, A, A0, zero_tol=1e-12)"
   ]
  },
  {
   "cell_type": "code",
   "execution_count": 16,
   "id": "6a87559d",
   "metadata": {},
   "outputs": [
    {
     "data": {
      "application/vnd.jupyter.widget-view+json": {
       "model_id": "6426937322554e9b833fa500cc7509d0",
       "version_major": 2,
       "version_minor": 0
      },
      "text/plain": [
       "Canvas(toolbar=Toolbar(toolitems=[('Home', 'Reset original view', 'home', 'home'), ('Back', 'Back to previous …"
      ]
     },
     "metadata": {},
     "output_type": "display_data"
    }
   ],
   "source": [
    "fv = np.logspace(2, 6, 10001) # 1 Hz to 100 kHz\n",
    "C0 = A*D + 0*fv\n",
    "\n",
    "x1 = np.pi*D*fv*T\n",
    "C1 = 1.0/x1\n",
    "x2 = np.pi*Trise*fv\n",
    "C2 = 1.0/x2\n",
    "\n",
    "y = C0 * np.sin(x1)/x1 * np.sin(x2)/x2\n",
    "\n",
    "fig, ax = plt.subplots(1,1)\n",
    "yfcn = lambda y_ : 20*np.log10(np.abs(y_))\n",
    "ax.semilogx(fv, yfcn(C0), label='Constant')\n",
    "ax.semilogx(fv, yfcn(C0*C1), label='Term 1')\n",
    "ax.semilogx(fv, yfcn(C0*C1*C2), label='Term 2')\n",
    "# ax.semilogx(fv, yfcn(C0*C1*C2), label='Product')\n",
    "ax.semilogx(fv, yfcn(y), label='Product Exact')\n",
    "leg1 = ax.legend(loc='best')\n",
    "\n",
    "ax.set_ylim(-100,0)\n",
    "\n",
    "ax.grid(True)"
   ]
  },
  {
   "cell_type": "markdown",
   "id": "a732becb",
   "metadata": {},
   "source": [
    "## Spectral Plots and Envelopes <a class=\"anchor\" id=\"trapenvelope\"></a>\n",
    "### Make a function to do the Bode plot piece."
   ]
  },
  {
   "cell_type": "code",
   "execution_count": 17,
   "id": "d45a8b09",
   "metadata": {},
   "outputs": [],
   "source": [
    "def trapezoidal_bode_plot(f, T, Trise=1e-15, D=0.5, A=1, ReturnCutoff=False):\n",
    "  \"\"\"Calculate and return a Bode plot envelope function for the magnitude spectrum of\n",
    "  the trapezoidal wave described by the given parameters.  Use the frequency vector f\n",
    "  and return a magnitude spectrum X.\"\"\"\n",
    "  Tpulse = D*T\n",
    "  f1 = 1./(np.pi * Tpulse)\n",
    "  f2 = 1./(np.pi * Trise)\n",
    "\n",
    "  Xm = (A*D) \\\n",
    "    * np.array([1 if f_ < f1 else f1/f_ for f_ in f]) \\\n",
    "    * np.array([1 if f_ < f2 else f2/f_ for f_ in f])\n",
    "\n",
    "  if ReturnCutoff:\n",
    "    return Xm, f1, f2\n",
    "  else:\n",
    "    return Xm"
   ]
  },
  {
   "cell_type": "code",
   "execution_count": 18,
   "id": "1aa7af16",
   "metadata": {},
   "outputs": [
    {
     "data": {
      "application/vnd.jupyter.widget-view+json": {
       "model_id": "d107e4f66f584a9790fe6d0521f79989",
       "version_major": 2,
       "version_minor": 0
      },
      "text/plain": [
       "Canvas(toolbar=Toolbar(toolitems=[('Home', 'Reset original view', 'home', 'home'), ('Back', 'Back to previous …"
      ]
     },
     "metadata": {},
     "output_type": "display_data"
    },
    {
     "name": "stdout",
     "output_type": "stream",
     "text": [
      "-12.046997453882678 -46.025394994485744\n"
     ]
    }
   ],
   "source": [
    "fv = np.logspace(2, 6, 10001) # 1 Hz to 100 kHz\n",
    "C0 = A*D + 0*fv\n",
    "\n",
    "x1 = np.pi*D*fv*T\n",
    "C1 = 1.0/x1\n",
    "x2 = np.pi*Trise*fv\n",
    "C2 = 1.0/x2\n",
    "\n",
    "y = C0 * np.sin(x1)/x1 * np.sin(x2)/x2\n",
    "Yenv, f1, f2 = trapezoidal_bode_plot(fv, T, Trise, D, A, ReturnCutoff=True)\n",
    "ii1, ii2 = np.searchsorted(fv, [f1, f2])\n",
    "Yenv1, Yenv2 = Yenv[ii1], Yenv[ii2]\n",
    "\n",
    "\n",
    "fig, ax = plt.subplots(1,1)\n",
    "ax.set_ylim(-100,0)\n",
    "ymin, ymax = ax.get_ylim()\n",
    "yfcn = lambda y_ : 20*np.log10(np.abs(y_))\n",
    "print(yfcn(Yenv1), yfcn(Yenv2))\n",
    "ax.semilogx(fv, yfcn(Yenv), label='Envelope', color='k')\n",
    "ax.semilogx(fv, yfcn(y), label='Exact')\n",
    "ax.axvline(f1, ymax=(yfcn(Yenv1)-ymin)/(ymax-ymin), color='k', linestyle='--')\n",
    "ax.axvline(f2, ymax=(yfcn(Yenv2)-ymin)/(ymax-ymin), color='k', linestyle='--')\n",
    "leg1 = ax.legend(loc='best')\n",
    "ax.set_xlabel('Frequency (Hz)')\n",
    "ax.set_ylabel('Magnitude (dB)')\n",
    "ax.grid(True)"
   ]
  },
  {
   "cell_type": "code",
   "execution_count": 28,
   "id": "cbcafe98",
   "metadata": {},
   "outputs": [
    {
     "data": {
      "application/vnd.jupyter.widget-view+json": {
       "model_id": "4fdadccfb40f4556b1b67d1065f2ddcf",
       "version_major": 2,
       "version_minor": 0
      },
      "text/plain": [
       "Canvas(toolbar=Toolbar(toolitems=[('Home', 'Reset original view', 'home', 'home'), ('Back', 'Back to previous …"
      ]
     },
     "metadata": {},
     "output_type": "display_data"
    },
    {
     "name": "stdout",
     "output_type": "stream",
     "text": [
      "-20.00579762732343 -53.984195167926494\n"
     ]
    },
    {
     "data": {
      "text/plain": [
       "Text(61000.0, -105, '$f_2$')"
      ]
     },
     "execution_count": 28,
     "metadata": {},
     "output_type": "execute_result"
    }
   ],
   "source": [
    "T = 1/2e3 # Note I changed T to create a 2 kHz fundamental waveform.\n",
    "Trise=0.01*T\n",
    "Tfall=Trise\n",
    "\n",
    "fv = np.logspace(2, 6, 10001) # 1 Hz to 100 kHz\n",
    "Yenv, f1, f2 = trapezoidal_bode_plot(fv, T, Trise, 0.5, 0.2, ReturnCutoff=True)\n",
    "ii1, ii2 = np.searchsorted(fv, [f1, f2])\n",
    "Yenv1, Yenv2 = Yenv[ii1], Yenv[ii2]\n",
    "\n",
    "\n",
    "fig, ax = plt.subplots(1,1)\n",
    "ax.set_xlim(1e2, 1e6)\n",
    "ax.set_ylim(-100,0)\n",
    "ymin, ymax = ax.get_ylim()\n",
    "yfcn = lambda y_ : 20*np.log10(np.abs(y_))\n",
    "print(yfcn(Yenv1), yfcn(Yenv2))\n",
    "ax.semilogx(fv, yfcn(Yenv), label='Envelope', color='k')\n",
    "ax.axvline(f1, ymax=(yfcn(Yenv1)-ymin)/(ymax-ymin), color='k', linestyle='--')\n",
    "ax.axvline(f2, ymax=(yfcn(Yenv2)-ymin)/(ymax-ymin), color='k', linestyle='--')\n",
    "\n",
    "ax.set_xticklabels([])\n",
    "ax.set_yticklabels([])\n",
    "ax.grid(True)\n",
    "ax.set_xlabel('Frequency')\n",
    "ax.set_ylabel('Magnitude (dB)')\n",
    "ax.text(2e2, -15, '$0\\ dB/dec$')\n",
    "ax.text(1e4, -33, '$-20\\ dB/dec$')\n",
    "ax.text(2e5, -65, '$-40\\ dB/dec$')\n",
    "ax.text(1.2e3, -105, '$f_1$')\n",
    "ax.text(6.1e4, -105, '$f_2$')\n",
    "\n",
    "#fig.savefig('trap_bare_bode_plot.pdf')"
   ]
  },
  {
   "cell_type": "markdown",
   "id": "e4cb8ee0-6b8d-48b6-b6eb-10bbe10097de",
   "metadata": {},
   "source": [
    "### Spectra of Generalized Waveforms\n",
    "\n",
    "High-speed digital design utilizes clock signals.  However, most of the signals of concern carry more information than on and off.  Such signals are no longer strictly periodic, and require analysis with a Fourier transform rather than a Fourier series. We will use the Fast-Fourier Transform (FFT) for our calculations. The `SciPy` package includes an FFT algorithm and other functions to make this job easier.  _I have written my own discrete Fourier transform algorithms before, but they are much slower than the optimized algorithms from `SciPy`.\n",
    "\n",
    "The inputs to the functions below are time and signal vectors.  Technically, the time waveform could be replaced with sample rate.  However, I seldom plot a spectrum without first observing the time-domain waveform, which will require the time vector.  The periodic signals discussed previously in this notebook can be analyzed with FFTs, as well.  The resulting spectra will include truncation effects, associated with the discrete Fourier transform.  Longer time waveforms will approach the ideal Fourier Series form with an FFT calculation.  A higher sample rate will yield a higher maximum frequency, but a longer waveform is required to produce finer details in the spectrum."
   ]
  },
  {
   "cell_type": "code",
   "execution_count": 20,
   "id": "4cbcdb84",
   "metadata": {},
   "outputs": [],
   "source": [
    "# Code for FFT calculations\n",
    "import scipy.fftpack as sfft\n",
    "\n",
    "def fftfreq(N, Ts, DoubleSided = True):\n",
    "    '''N = Number of points, Ts = sample rate'''\n",
    "    if DoubleSided:\n",
    "        return sfft.fftshift(sfft.fftfreq(N, Ts))\n",
    "    else:\n",
    "        Nsingle = 0\n",
    "        if isodd(N):\n",
    "            Nsingle = int((N+1)/2)\n",
    "        else:\n",
    "            Nsingle = int(N/2)\n",
    "        return sfft.fftfreq(N, Ts)[:Nsingle]\n",
    "\n",
    "def dftcalc(t, v, N=None, DoubleSided=True, **kwargs):\n",
    "    \"\"\"\n",
    "    N = Number of samples to use in the calculation\n",
    "    DoubleSided = Whether to produce a single or double sided\n",
    "    response.\n",
    "\n",
    "    Note: The non-DC terms are doubled in single-response.\n",
    "    \"\"\"\n",
    "    if 'fs' in kwargs:\n",
    "        t_,v_ = pad_for_frequency_step(t, v, kwargs['fs'])\n",
    "    else:\n",
    "        t_,v_ = t,v\n",
    "\n",
    "    L = len(v_)\n",
    "    if N is None:\n",
    "        N = L\n",
    "\n",
    "    Ts = t_[1]-t_[0] # Assume a constant sample rate.\n",
    "\n",
    "    f = fftfreq(N, Ts, DoubleSided)\n",
    "    if DoubleSided:\n",
    "        V = sfft.fftshift(sfft.fft(v_,N))\n",
    "    else: # single sided spectrum\n",
    "        V = sfft.fft(v_,N)[:len(f)]*2.\n",
    "        V[0] /= 2.\n",
    "    return f, V/L # Divide by L to get the right scaling\n",
    "\n",
    "def singlesidedspectrum(t,v, N=None, **kwargs):\n",
    "    return dftcalc(t,v,N,DoubleSided=False, **kwargs)\n",
    "\n",
    "def doublesidedspectrum(t,v, N=None, **kwargs):\n",
    "    return dftcalc(t,v,N,DoubleSided=True, **kwargs)"
   ]
  },
  {
   "cell_type": "markdown",
   "id": "2705dd5e",
   "metadata": {},
   "source": [
    "#### Spectrum of a Pseudo-Random Bit Stream"
   ]
  },
  {
   "cell_type": "code",
   "execution_count": 21,
   "id": "ccdece6f",
   "metadata": {},
   "outputs": [],
   "source": [
    "# Build a function to generate a pseudo-random bit stream and calculate the spectrum of it.\n",
    "def unitstep(t, t0):\n",
    "    return (t >= t0) * 1.0\n",
    "\n",
    "def unitramp(t, t0):\n",
    "    return unitstep(t,t0) * (t-t0)\n",
    "\n",
    "class bitstream_t(object):\n",
    "    def __init__(self, vlow, vhigh, tdelay, trise, tfall, ui, bitstring):\n",
    "        '''recognized params => vlow, vhigh, tdelay, trise, tfall, ui, bitstring'''\n",
    "        self.vlow = vlow\n",
    "        self.vhigh = vhigh\n",
    "        self.tdelay = tdelay\n",
    "        self.trise = trise\n",
    "        self.tfall = tfall\n",
    "        self.ui = ui\n",
    "        self.bitstring = bitstring\n",
    "        self.bitarray = np.array([int(x) for x in bitstring])\n",
    "\n",
    "        # I added a zero at the beginning to show no transitions in the initial time.\n",
    "        # I'm not sure I like that, but I am not certain I like the alternative either.\n",
    "        #self.transitions = np.concatenate([np.array([0,]), self.bitarray[1:] - self.bitarray[:-1]])\n",
    "        self.transitions = np.roll(self.bitarray, 1) - self.bitarray\n",
    "\n",
    "        self.Nbits = len(self.bitstring)\n",
    "        self.tbitstart = np.arange(self.Nbits) * self.ui # create a list of bits to work from.\n",
    "\n",
    "    def value(self, time):\n",
    "        '''tdelay shifts the time before any value is calculated.'''\n",
    "        t = (time - self.tdelay) * (time>self.tdelay)\n",
    "        r = unitramp # just an alias\n",
    "\n",
    "        ibit = np.searchsorted(self.tbitstart, time, side='right')-1 # which bit(s) are we in?\n",
    "        if type(ibit) == np.ndarray:\n",
    "            lam0 = np.array([np.sum(self.transitions[:ibit0]) for ibit0 in ibit])\n",
    "        else:\n",
    "            lam0 = np.sum(self.transitions[:ibit])\n",
    "\n",
    "        vinit_value = (1-lam0)*self.vlow + lam0*self.vhigh\n",
    "\n",
    "        t0 = self.tbitstart[ibit] # get the offset for the ramp\n",
    "        vrising = (self.vhigh-self.vlow)/self.trise * (r(t,t0) - r(t,t0+self.trise))\n",
    "        vfalling = (self.vhigh-self.vlow)/self.tfall * (r(t,t0) - r(t,t0+self.tfall))\n",
    "        vstep_value = (self.transitions[ibit] > 0)*vrising - (self.transitions[ibit] < 0)*vfalling\n",
    "        # If the transition = 0, do nothing.  Keep the vinit_value.\n",
    "        return vinit_value + vstep_value\n",
    "\n",
    "\n"
   ]
  },
  {
   "cell_type": "markdown",
   "id": "ed5a7340",
   "metadata": {},
   "source": [
    "Create a stream of random bits."
   ]
  },
  {
   "cell_type": "code",
   "execution_count": 22,
   "id": "fe6f3831",
   "metadata": {},
   "outputs": [
    {
     "data": {
      "application/vnd.jupyter.widget-view+json": {
       "model_id": "af1d9f90e6b54a408dc37ca8af31a1a4",
       "version_major": 2,
       "version_minor": 0
      },
      "text/plain": [
       "Canvas(toolbar=Toolbar(toolitems=[('Home', 'Reset original view', 'home', 'home'), ('Back', 'Back to previous …"
      ]
     },
     "metadata": {},
     "output_type": "display_data"
    },
    {
     "ename": "NameError",
     "evalue": "name 'isodd' is not defined",
     "output_type": "error",
     "traceback": [
      "\u001b[0;31m---------------------------------------------------------------------------\u001b[0m",
      "\u001b[0;31mNameError\u001b[0m                                 Traceback (most recent call last)",
      "\u001b[0;32m<ipython-input-22-10226967766e>\u001b[0m in \u001b[0;36m<module>\u001b[0;34m\u001b[0m\n\u001b[1;32m     16\u001b[0m \u001b[0max\u001b[0m\u001b[0;34m.\u001b[0m\u001b[0mgrid\u001b[0m\u001b[0;34m(\u001b[0m\u001b[0;32mTrue\u001b[0m\u001b[0;34m)\u001b[0m\u001b[0;34m\u001b[0m\u001b[0;34m\u001b[0m\u001b[0m\n\u001b[1;32m     17\u001b[0m \u001b[0;34m\u001b[0m\u001b[0m\n\u001b[0;32m---> 18\u001b[0;31m \u001b[0mf\u001b[0m\u001b[0;34m,\u001b[0m \u001b[0mV\u001b[0m \u001b[0;34m=\u001b[0m \u001b[0msinglesidedspectrum\u001b[0m\u001b[0;34m(\u001b[0m\u001b[0mt\u001b[0m\u001b[0;34m,\u001b[0m \u001b[0mv\u001b[0m\u001b[0;34m)\u001b[0m\u001b[0;34m\u001b[0m\u001b[0;34m\u001b[0m\u001b[0m\n\u001b[0m\u001b[1;32m     19\u001b[0m \u001b[0maxm\u001b[0m \u001b[0;34m=\u001b[0m \u001b[0maxs\u001b[0m\u001b[0;34m[\u001b[0m\u001b[0;36m1\u001b[0m\u001b[0;34m]\u001b[0m\u001b[0;34m\u001b[0m\u001b[0;34m\u001b[0m\u001b[0m\n\u001b[1;32m     20\u001b[0m \u001b[0maxm\u001b[0m\u001b[0;34m.\u001b[0m\u001b[0msemilogx\u001b[0m\u001b[0;34m(\u001b[0m\u001b[0mf\u001b[0m\u001b[0;34m,\u001b[0m \u001b[0mdb\u001b[0m\u001b[0;34m(\u001b[0m\u001b[0mV\u001b[0m\u001b[0;34m)\u001b[0m\u001b[0;34m)\u001b[0m\u001b[0;34m\u001b[0m\u001b[0;34m\u001b[0m\u001b[0m\n",
      "\u001b[0;32m<ipython-input-20-a2ed85e6a2cd>\u001b[0m in \u001b[0;36msinglesidedspectrum\u001b[0;34m(t, v, N, **kwargs)\u001b[0m\n\u001b[1;32m     42\u001b[0m \u001b[0;34m\u001b[0m\u001b[0m\n\u001b[1;32m     43\u001b[0m \u001b[0;32mdef\u001b[0m \u001b[0msinglesidedspectrum\u001b[0m\u001b[0;34m(\u001b[0m\u001b[0mt\u001b[0m\u001b[0;34m,\u001b[0m\u001b[0mv\u001b[0m\u001b[0;34m,\u001b[0m \u001b[0mN\u001b[0m\u001b[0;34m=\u001b[0m\u001b[0;32mNone\u001b[0m\u001b[0;34m,\u001b[0m \u001b[0;34m**\u001b[0m\u001b[0mkwargs\u001b[0m\u001b[0;34m)\u001b[0m\u001b[0;34m:\u001b[0m\u001b[0;34m\u001b[0m\u001b[0;34m\u001b[0m\u001b[0m\n\u001b[0;32m---> 44\u001b[0;31m     \u001b[0;32mreturn\u001b[0m \u001b[0mdftcalc\u001b[0m\u001b[0;34m(\u001b[0m\u001b[0mt\u001b[0m\u001b[0;34m,\u001b[0m\u001b[0mv\u001b[0m\u001b[0;34m,\u001b[0m\u001b[0mN\u001b[0m\u001b[0;34m,\u001b[0m\u001b[0mDoubleSided\u001b[0m\u001b[0;34m=\u001b[0m\u001b[0;32mFalse\u001b[0m\u001b[0;34m,\u001b[0m \u001b[0;34m**\u001b[0m\u001b[0mkwargs\u001b[0m\u001b[0;34m)\u001b[0m\u001b[0;34m\u001b[0m\u001b[0;34m\u001b[0m\u001b[0m\n\u001b[0m\u001b[1;32m     45\u001b[0m \u001b[0;34m\u001b[0m\u001b[0m\n\u001b[1;32m     46\u001b[0m \u001b[0;32mdef\u001b[0m \u001b[0mdoublesidedspectrum\u001b[0m\u001b[0;34m(\u001b[0m\u001b[0mt\u001b[0m\u001b[0;34m,\u001b[0m\u001b[0mv\u001b[0m\u001b[0;34m,\u001b[0m \u001b[0mN\u001b[0m\u001b[0;34m=\u001b[0m\u001b[0;32mNone\u001b[0m\u001b[0;34m,\u001b[0m \u001b[0;34m**\u001b[0m\u001b[0mkwargs\u001b[0m\u001b[0;34m)\u001b[0m\u001b[0;34m:\u001b[0m\u001b[0;34m\u001b[0m\u001b[0;34m\u001b[0m\u001b[0m\n",
      "\u001b[0;32m<ipython-input-20-a2ed85e6a2cd>\u001b[0m in \u001b[0;36mdftcalc\u001b[0;34m(t, v, N, DoubleSided, **kwargs)\u001b[0m\n\u001b[1;32m     33\u001b[0m     \u001b[0mTs\u001b[0m \u001b[0;34m=\u001b[0m \u001b[0mt_\u001b[0m\u001b[0;34m[\u001b[0m\u001b[0;36m1\u001b[0m\u001b[0;34m]\u001b[0m\u001b[0;34m-\u001b[0m\u001b[0mt_\u001b[0m\u001b[0;34m[\u001b[0m\u001b[0;36m0\u001b[0m\u001b[0;34m]\u001b[0m \u001b[0;31m# Assume a constant sample rate.\u001b[0m\u001b[0;34m\u001b[0m\u001b[0;34m\u001b[0m\u001b[0m\n\u001b[1;32m     34\u001b[0m \u001b[0;34m\u001b[0m\u001b[0m\n\u001b[0;32m---> 35\u001b[0;31m     \u001b[0mf\u001b[0m \u001b[0;34m=\u001b[0m \u001b[0mfftfreq\u001b[0m\u001b[0;34m(\u001b[0m\u001b[0mN\u001b[0m\u001b[0;34m,\u001b[0m \u001b[0mTs\u001b[0m\u001b[0;34m,\u001b[0m \u001b[0mDoubleSided\u001b[0m\u001b[0;34m)\u001b[0m\u001b[0;34m\u001b[0m\u001b[0;34m\u001b[0m\u001b[0m\n\u001b[0m\u001b[1;32m     36\u001b[0m     \u001b[0;32mif\u001b[0m \u001b[0mDoubleSided\u001b[0m\u001b[0;34m:\u001b[0m\u001b[0;34m\u001b[0m\u001b[0;34m\u001b[0m\u001b[0m\n\u001b[1;32m     37\u001b[0m         \u001b[0mV\u001b[0m \u001b[0;34m=\u001b[0m \u001b[0msfft\u001b[0m\u001b[0;34m.\u001b[0m\u001b[0mfftshift\u001b[0m\u001b[0;34m(\u001b[0m\u001b[0msfft\u001b[0m\u001b[0;34m.\u001b[0m\u001b[0mfft\u001b[0m\u001b[0;34m(\u001b[0m\u001b[0mv_\u001b[0m\u001b[0;34m,\u001b[0m\u001b[0mN\u001b[0m\u001b[0;34m)\u001b[0m\u001b[0;34m)\u001b[0m\u001b[0;34m\u001b[0m\u001b[0;34m\u001b[0m\u001b[0m\n",
      "\u001b[0;32m<ipython-input-20-a2ed85e6a2cd>\u001b[0m in \u001b[0;36mfftfreq\u001b[0;34m(N, Ts, DoubleSided)\u001b[0m\n\u001b[1;32m      8\u001b[0m     \u001b[0;32melse\u001b[0m\u001b[0;34m:\u001b[0m\u001b[0;34m\u001b[0m\u001b[0;34m\u001b[0m\u001b[0m\n\u001b[1;32m      9\u001b[0m         \u001b[0mNsingle\u001b[0m \u001b[0;34m=\u001b[0m \u001b[0;36m0\u001b[0m\u001b[0;34m\u001b[0m\u001b[0;34m\u001b[0m\u001b[0m\n\u001b[0;32m---> 10\u001b[0;31m         \u001b[0;32mif\u001b[0m \u001b[0misodd\u001b[0m\u001b[0;34m(\u001b[0m\u001b[0mN\u001b[0m\u001b[0;34m)\u001b[0m\u001b[0;34m:\u001b[0m\u001b[0;34m\u001b[0m\u001b[0;34m\u001b[0m\u001b[0m\n\u001b[0m\u001b[1;32m     11\u001b[0m             \u001b[0mNsingle\u001b[0m \u001b[0;34m=\u001b[0m \u001b[0mint\u001b[0m\u001b[0;34m(\u001b[0m\u001b[0;34m(\u001b[0m\u001b[0mN\u001b[0m\u001b[0;34m+\u001b[0m\u001b[0;36m1\u001b[0m\u001b[0;34m)\u001b[0m\u001b[0;34m/\u001b[0m\u001b[0;36m2\u001b[0m\u001b[0;34m)\u001b[0m\u001b[0;34m\u001b[0m\u001b[0;34m\u001b[0m\u001b[0m\n\u001b[1;32m     12\u001b[0m         \u001b[0;32melse\u001b[0m\u001b[0;34m:\u001b[0m\u001b[0;34m\u001b[0m\u001b[0;34m\u001b[0m\u001b[0m\n",
      "\u001b[0;31mNameError\u001b[0m: name 'isodd' is not defined"
     ]
    }
   ],
   "source": [
    "tr = 1e-9\n",
    "tf = 1e-9\n",
    "ui = 1./50e6\n",
    "bstream0 = bitstream_t(0, 1, 0, tr, tf, ui, '0111001'*20)\n",
    "\n",
    "t = np.linspace(0, ui*100, int(1e4 + 1))\n",
    "v = bstream0.value(t)\n",
    "\n",
    "tfcn = lambda t_ : t_*1e6 # us\n",
    "ffcn = lambda f_ : f_/1e6 # MHz\n",
    "db = lambda x_ : 20*np.log10(np.abs(x_))\n",
    "\n",
    "fig, axs = plt.subplots(2,1)\n",
    "ax = axs[0]\n",
    "ax.plot(tfcn(t),v)\n",
    "ax.grid(True)\n",
    "\n",
    "f, V = singlesidedspectrum(t, v)\n",
    "axm = axs[1]\n",
    "axm.semilogx(f, db(V))\n"
   ]
  },
  {
   "cell_type": "code",
   "execution_count": null,
   "id": "0cec7ed5",
   "metadata": {},
   "outputs": [],
   "source": []
  }
 ],
 "metadata": {
  "interpreter": {
   "hash": "5764602bc5e15974420ba0a3caed7061d770b6b7de350fe4980c5fe44de76677"
  },
  "kernelspec": {
   "display_name": "Python 3.8.10 64-bit ('base': conda)",
   "name": "python3"
  },
  "language_info": {
   "codemirror_mode": {
    "name": "ipython",
    "version": 3
   },
   "file_extension": ".py",
   "mimetype": "text/x-python",
   "name": "python",
   "nbconvert_exporter": "python",
   "pygments_lexer": "ipython3",
   "version": "3.8.10"
  }
 },
 "nbformat": 4,
 "nbformat_minor": 5
}
