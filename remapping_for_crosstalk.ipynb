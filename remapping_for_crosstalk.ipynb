{
 "cells": [
  {
   "cell_type": "code",
   "execution_count": 1,
   "metadata": {},
   "outputs": [],
   "source": [
    "# Assume a 4-port parameter being remapped to 6-ports.\n",
    "# I'm adding crosstalk from one line to another one.\n",
    "\n",
    "import numpy as np"
   ]
  },
  {
   "cell_type": "code",
   "execution_count": 2,
   "metadata": {},
   "outputs": [
    {
     "name": "stdout",
     "output_type": "stream",
     "text": [
      "[[13 14]\n",
      " [23 24]]\n"
     ]
    }
   ],
   "source": [
    "S4 = np.array([[11,12,13,14],\n",
    "               [21,22,23,24],\n",
    "               [31,32,33,34],\n",
    "               [41,42,43,44]])\n",
    "\n",
    "B12 = np.array([[1,0], [0,1], [0,0], [0,0]])\n",
    "B34 = np.array([[0,0], [0,0], [1,0], [0,1]])\n",
    "\n",
    "Sx = np.matmul(np.matmul(B12.T, S4), B34)\n",
    "print(Sx)"
   ]
  },
  {
   "cell_type": "code",
   "execution_count": 3,
   "metadata": {},
   "outputs": [
    {
     "name": "stdout",
     "output_type": "stream",
     "text": [
      "[[ 0  0  0  0  0  0]\n",
      " [ 0  0  0  0  0  0]\n",
      " [ 0  0  0  0  0  0]\n",
      " [ 0  0  0  0  0  0]\n",
      " [ 0  0  0  0 13 14]\n",
      " [ 0  0  0  0 23 24]]\n"
     ]
    }
   ],
   "source": [
    "A12 = np.array([[1, 0, 0, 0, 0, 0], [0, 1, 0, 0, 0, 0]])\n",
    "A56 = np.array([[0, 0, 0, 0, 1, 0], [0, 0, 0, 0, 0, 1]])\n",
    "\n",
    "S6 = np.matmul(np.matmul(A56.T, Sx), A56)\n",
    "print(S6)"
   ]
  }
 ],
 "metadata": {
  "kernelspec": {
   "display_name": "base",
   "language": "python",
   "name": "python3"
  },
  "language_info": {
   "codemirror_mode": {
    "name": "ipython",
    "version": 3
   },
   "file_extension": ".py",
   "mimetype": "text/x-python",
   "name": "python",
   "nbconvert_exporter": "python",
   "pygments_lexer": "ipython3",
   "version": "3.8.18"
  }
 },
 "nbformat": 4,
 "nbformat_minor": 2
}
