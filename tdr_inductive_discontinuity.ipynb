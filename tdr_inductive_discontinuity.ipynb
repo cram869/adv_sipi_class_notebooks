{
 "cells": [
  {
   "cell_type": "code",
   "execution_count": 1,
   "metadata": {},
   "outputs": [],
   "source": [
    "%matplotlib widget\n",
    "import matplotlib.pyplot as plt\n",
    "import numpy as np"
   ]
  },
  {
   "attachments": {},
   "cell_type": "markdown",
   "metadata": {},
   "source": [
    "The area between what would be a TDR response without a discontinuity and one with a inductive discontinuity is represented by\n",
    "$$S = \\frac{V^+_1 L}{2 Z_0}\\left[ 1 - e^{-\\frac{2 Z_0 \\Delta t}{L}} \\right]$$\n",
    "For a Newton Raphson solution, define a function $g(L)$ such that\n",
    "$$g(L) = \\frac{V^+_1 L}{2 Z_0}\\left[ 1 - e^{-\\frac{2 Z_0 \\Delta t}{L}} \\right] - S$$"
   ]
  },
  {
   "cell_type": "code",
   "execution_count": 2,
   "metadata": {},
   "outputs": [],
   "source": [
    "def g_of_l(S, Z0, Vp, L, dt):\n",
    "  tau = L/(2*Z0) # Time constant\n",
    "  g_ = Vp*tau * (1 - np.e**(-dt/tau)) - S\n",
    "  return g_\n",
    "\n",
    "def g_prime_of_l(Z0, Vp, L, dt):\n",
    "  tau = L/(2*Z0)\n",
    "  gp_ = Vp/(2*Z0) * ( 1 - (1 + dt/tau)*np.e**(-dt/tau))\n",
    "  return gp_\n"
   ]
  },
  {
   "cell_type": "code",
   "execution_count": 3,
   "metadata": {},
   "outputs": [],
   "source": [
    "# Set the starting parameters\n",
    "Z0 = 50\n",
    "Vp = 0.5\n",
    "dt = 0.3e-9\n",
    "S = 4.7526e-11\n",
    "\n",
    "# L_start = 1e-9"
   ]
  },
  {
   "cell_type": "code",
   "execution_count": 4,
   "metadata": {},
   "outputs": [
    {
     "name": "stdout",
     "output_type": "stream",
     "text": [
      "Starting Estimate:  9.5052  nH\n"
     ]
    }
   ],
   "source": [
    "L_start_est = 2*S*Z0 / (Vp)\n",
    "print(\"Starting Estimate: \", L_start_est * 1e9, \" nH\")"
   ]
  },
  {
   "cell_type": "code",
   "execution_count": 5,
   "metadata": {},
   "outputs": [
    {
     "name": "stdout",
     "output_type": "stream",
     "text": [
      "0 :\t\t 9.9970791415088 nH :\t\t 2.0240688731812952e-12\n",
      "1 :\t\t 10.003833407265747 nH :\t\t 2.7050246918028954e-14\n",
      "2 :\t\t 10.003834683782095 nH :\t\t 5.110405279121593e-18\n"
     ]
    }
   ],
   "source": [
    "iter_ = 0\n",
    "max_iter = 100\n",
    "err_ = 100*S\n",
    "Lnext = L_start_est\n",
    "while (err_ > S/100000.0) and iter_ < max_iter:\n",
    "  g_of_lk = g_of_l(S, Z0, Vp, Lnext, dt)\n",
    "  g_prime_of_lk = g_prime_of_l(Z0, Vp, Lnext, dt)\n",
    "  Lnext += -g_of_lk / g_prime_of_lk\n",
    "  err_ = np.abs(g_of_lk)\n",
    "\n",
    "  print(iter_, \":\\t\\t\", Lnext*1e9, \"nH :\\t\\t\", err_)\n",
    "  iter_ += 1\n",
    "\n"
   ]
  }
 ],
 "metadata": {
  "kernelspec": {
   "display_name": "Python 3.8.10 ('base')",
   "language": "python",
   "name": "python3"
  },
  "language_info": {
   "codemirror_mode": {
    "name": "ipython",
    "version": 3
   },
   "file_extension": ".py",
   "mimetype": "text/x-python",
   "name": "python",
   "nbconvert_exporter": "python",
   "pygments_lexer": "ipython3",
   "version": "3.8.18"
  },
  "orig_nbformat": 4,
  "vscode": {
   "interpreter": {
    "hash": "5764602bc5e15974420ba0a3caed7061d770b6b7de350fe4980c5fe44de76677"
   }
  }
 },
 "nbformat": 4,
 "nbformat_minor": 2
}
