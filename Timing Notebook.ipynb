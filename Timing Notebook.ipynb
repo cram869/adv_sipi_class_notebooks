{
 "cells": [
  {
   "cell_type": "code",
   "execution_count": 7,
   "id": "4b933582-fdc0-41a7-8a45-99c29139348a",
   "metadata": {},
   "outputs": [],
   "source": [
    "%matplotlib widget\n",
    "import numpy as np\n",
    "import matplotlib.pyplot as plt"
   ]
  },
  {
   "cell_type": "markdown",
   "id": "f884dcc9-94cd-40dc-88e6-64116a7ab156",
   "metadata": {},
   "source": [
    "# Module 2: \n",
    "\n",
    "_Contents_\n",
    "* [Timing](#sec_timing)\n",
    "* Intersymbol Interference\n"
   ]
  },
  {
   "cell_type": "markdown",
   "id": "5adc5de3",
   "metadata": {},
   "source": [
    "## Timing <a class=\"anchor\" id=\"sec_timing\"></a>"
   ]
  },
  {
   "cell_type": "code",
   "execution_count": 8,
   "id": "ff3b9d53",
   "metadata": {},
   "outputs": [],
   "source": [
    "class GateBase(object):\n",
    "  def __init__(self, t_prop_delay=1e-9, initial_state=False):\n",
    "    self._current_output_state = initial_state\n",
    "    self._next_output_state = initial_state # Will move to current after tpd.\n",
    "    self._time_of_last_state_change = 0\n",
    "    self._tpd = t_prop_delay\n",
    "    self._input_states = [] # length of list defined by *argv.\n",
    "\n",
    "  def get_state(self, t):\n",
    "    self._update_state(t)\n",
    "    return int(self._current_output_state)\n",
    "\n",
    "  def set_input(self, t, *argv):\n",
    "    if len(self._input_states) != len(argv):\n",
    "      raise ValueError(\"Lengths of input argv and input states differ.\")\n",
    "\n",
    "    bool_argv = [bool(in_) for in_ in argv] \n",
    "    \n",
    "    # Check if any input states have changed.\n",
    "    for ii, new_input_i in enumerate(argv):\n",
    "      if self._input_states[ii] != new_input_i:\n",
    "        self._time_of_last_state_change = t # reset the timer\n",
    "        self._input_states[ii] = new_input_i\n",
    "    \n",
    "    self._update_next_output_state()\n",
    "\n",
    "  def _update_next_output_state(self):\n",
    "    # Perform the logic action of the gate.\n",
    "    raise NotImplementedError(\"Derived class should implement this function.\")\n",
    "\n",
    "  def _update_state(self, t):\n",
    "    if t - self._time_of_last_state_change >= self._tpd:\n",
    "      self._current_output_state = self._next_output_state\n",
    "      #self._time_of_last_state_change = t # reset the timer\n",
    "    \n",
    "\n",
    "class NAND2Gate(GateBase):\n",
    "  def __init__(self, t_prop_delay=1e-9, initial_state=True):\n",
    "    super().__init__(t_prop_delay, initial_state)\n",
    "    self._input_states = [False, False]\n",
    "    self._update_next_output_state()\n",
    "\n",
    "  def set_input(self, t, *argv):\n",
    "    super().set_input(t, *argv)\n",
    "    \n",
    "  def _update_next_output_state(self):\n",
    "    # Perform the logic action of the gate.\n",
    "    a = self._input_states[0]\n",
    "    b = self._input_states[1]\n",
    "    self._next_output_state = not ( a and b )\n",
    "\n",
    "class NOTGate(GateBase):\n",
    "  def __init__(self, t_prop_delay=1e-9, initial_state=False):\n",
    "    super().__init__(t_prop_delay, initial_state)\n",
    "    self._input_states = [False,]\n",
    "    self._update_next_output_state()\n",
    "\n",
    "  def _update_next_output_state(self):\n",
    "    a = self._input_states[0]\n",
    "    self._next_output_state = not a"
   ]
  },
  {
   "cell_type": "markdown",
   "id": "1d415087",
   "metadata": {},
   "source": [
    "## NAND Gate Testing\n",
    "Test out the functionality of a NAND2 gate on its own before integrating it with other logic."
   ]
  },
  {
   "cell_type": "code",
   "execution_count": 9,
   "id": "990bc31d",
   "metadata": {},
   "outputs": [
    {
     "data": {
      "application/vnd.jupyter.widget-view+json": {
       "model_id": "d7ce50ecfe24455dab063da845ee970e",
       "version_major": 2,
       "version_minor": 0
      },
      "text/plain": [
       "Canvas(toolbar=Toolbar(toolitems=[('Home', 'Reset original view', 'home', 'home'), ('Back', 'Back to previous …"
      ]
     },
     "metadata": {},
     "output_type": "display_data"
    },
    {
     "data": {
      "text/plain": [
       "<matplotlib.legend.Legend at 0x7f3128a25af0>"
      ]
     },
     "execution_count": 9,
     "metadata": {},
     "output_type": "execute_result"
    }
   ],
   "source": [
    "tpd = 4\n",
    "\n",
    "t = np.linspace(0,50,101)\n",
    "\n",
    "G1 = NAND2Gate(tpd)\n",
    "\n",
    "a = 1*(t > 6) - 1*(t > 33)\n",
    "b = 1*(t > 11) - 1*(t > 20)\n",
    "\n",
    "y = 0*t\n",
    "for ii, v_ in enumerate(zip(t, a, b)):\n",
    "  t_, a_, b_ = v_\n",
    "  G1.set_input(t_, a_, b_)\n",
    "  y[ii] = G1.get_state(t_)\n",
    "\n",
    "xfcn = lambda x_ : x_*1\n",
    "fig, ax = plt.subplots(1,1)\n",
    "ax.plot(xfcn(t), a, label='a')\n",
    "ax.plot(xfcn(t), b+1, label='b')\n",
    "ax.plot(xfcn(t), y+2, label='y')\n",
    "ax.grid(True)\n",
    "ax.set_title('NAND2 Testing')\n",
    "ax.set_xlabel('Time (ns)')\n",
    "ax.set_ylabel('Logic Level')\n",
    "ax.legend(loc='best')\n"
   ]
  },
  {
   "cell_type": "markdown",
   "id": "286d7d9d",
   "metadata": {},
   "source": [
    "## SR Latch Testing\n",
    "The SR latch uses two NAND2 gates with feedback from the outputs.  In certain transitions the gates may reach a metastable point where the result is not obvious due to process variation or, in an ideal case, oscillates."
   ]
  },
  {
   "cell_type": "code",
   "execution_count": 10,
   "id": "990bc31d",
   "metadata": {},
   "outputs": [
    {
     "data": {
      "application/vnd.jupyter.widget-view+json": {
       "model_id": "6dfce5c5222842a68d88255adef33d66",
       "version_major": 2,
       "version_minor": 0
      },
      "text/plain": [
       "Canvas(toolbar=Toolbar(toolitems=[('Home', 'Reset original view', 'home', 'home'), ('Back', 'Back to previous …"
      ]
     },
     "metadata": {},
     "output_type": "display_data"
    },
    {
     "data": {
      "text/plain": [
       "Text(0, 0.5, 'Logic Level')"
      ]
     },
     "execution_count": 10,
     "metadata": {},
     "output_type": "execute_result"
    }
   ],
   "source": [
    "tpd = 4\n",
    "\n",
    "t = np.linspace(0,100,100001)\n",
    "\n",
    "G1 = NAND2Gate(tpd, initial_state=False)\n",
    "G2 = NAND2Gate(tpd, initial_state=True)\n",
    "\n",
    "#s = 1 - (1*(t >= 10) - 1*(t >= 20) + 1*(t >= 70))\n",
    "#r = 1 - (1*(t >= 40) - 1*(t >= 50))\n",
    "s = 1*(t >= 10) - 1*(t >= 25) + 1*(t >=50)\n",
    "r = 1*(t >= 15) - 1*(t >= 30) + 1*(t >=50)\n",
    "#s = 1 - 1*(t > 40)\n",
    "#r = 1 + 0*t\n",
    "\n",
    "\n",
    "q = 0*t\n",
    "qn = 1 + 0*t\n",
    "for ii, t_ in enumerate(t):\n",
    "  if ii == 0:\n",
    "    q_, qn_ = G1.get_state(t_), G2.get_state(t_)\n",
    "  else:\n",
    "    q_, qn_ = q[ii-1], qn[ii-1]\n",
    "  s_, r_ = s[ii], r[ii]\n",
    "\n",
    "  G1.set_input(t_, s_, qn_)\n",
    "  G2.set_input(t_, r_, q_)\n",
    "  q[ii] = G1.get_state(t_)\n",
    "  qn[ii] = G2.get_state(t_)\n",
    "  \n",
    "\n",
    "xfcn = lambda x_ : x_*1\n",
    "fig, ax = plt.subplots(1,1)\n",
    "ax.plot(xfcn(t), s, label='$\\overline{S}$')\n",
    "ax.plot(xfcn(t), r+1, label='$\\overline{R}$')\n",
    "ax.plot(xfcn(t), qn+2, label='~q', color='C2', linestyle='--')\n",
    "ax.plot(xfcn(t), q+3, label='q', color='C2')\n",
    "ax.grid(True)\n",
    "leg1 = ax.legend(loc='best')\n",
    "\n",
    "ax.set_title('SR Latch Testing')\n",
    "ax.set_xlabel('Time (ns)')\n",
    "ax.set_ylabel('Logic Level')\n"
   ]
  },
  {
   "cell_type": "code",
   "execution_count": 11,
   "id": "990bc31d",
   "metadata": {},
   "outputs": [
    {
     "data": {
      "application/vnd.jupyter.widget-view+json": {
       "model_id": "a3bff5fc8fae4023825d5055227b4d3c",
       "version_major": 2,
       "version_minor": 0
      },
      "text/plain": [
       "Canvas(toolbar=Toolbar(toolitems=[('Home', 'Reset original view', 'home', 'home'), ('Back', 'Back to previous …"
      ]
     },
     "metadata": {},
     "output_type": "display_data"
    },
    {
     "data": {
      "text/plain": [
       "Text(0, 0.5, 'Logic Level')"
      ]
     },
     "execution_count": 11,
     "metadata": {},
     "output_type": "execute_result"
    }
   ],
   "source": [
    "tpd = 2.5\n",
    "\n",
    "t = np.linspace(0,200,100001)\n",
    "\n",
    "# D Latch Specific Gates\n",
    "G0 = NOTGate(tpd, initial_state=True)\n",
    "G3 = NAND2Gate(tpd, initial_state=True)\n",
    "G4 = NAND2Gate(tpd, initial_state=False)\n",
    "\n",
    "# SR Latch Gates\n",
    "G1 = NAND2Gate(tpd, initial_state=False)\n",
    "G2 = NAND2Gate(tpd, initial_state=True)\n",
    "\n",
    "Td = 40\n",
    "D = 1*((t % Td) > Td/2)\n",
    "#D = 1*((t >= 20)&(t < 20+Td/2))\n",
    "\n",
    "T = 50\n",
    "CLK = 1*((t % T) >= T/2)\n",
    "#CLK = 1*((t >= 40)\n",
    "#s = 1 - 1*(t > 40)\n",
    "#r = 1 + 0*t\n",
    "\n",
    "s = 0*t\n",
    "r = 0*t\n",
    "Dn = 0*t\n",
    "q = 0*t\n",
    "qn = 1 + 0*t\n",
    "for ii, t_ in enumerate(t):\n",
    "  if ii == 0:\n",
    "    qn_ = G1.get_state(t_)\n",
    "    q_ = G2.get_state(t_)\n",
    "    Dn_ = G0.get_state(t_)\n",
    "    s_ = G3.get_state(t_)\n",
    "    r_ = G4.get_state(t_)\n",
    "  else:\n",
    "    q_, qn_ = q[ii-1], qn[ii-1]\n",
    "    s_, r_ = s[ii-1], r[ii-1]\n",
    "    Dn_ = Dn[ii-1]\n",
    "  D_, CLK_ = D[ii], CLK[ii]\n",
    "  \n",
    "\n",
    "  G0.set_input(t_, D_)\n",
    "  G3.set_input(t_, D_, CLK_)\n",
    "  G4.set_input(t_, Dn_, CLK_)\n",
    "  G1.set_input(t_, s_, qn_)\n",
    "  G2.set_input(t_, r_, q_)\n",
    "\n",
    "  Dn[ii] = G0.get_state(t_)\n",
    "  s[ii] = G3.get_state(t_)\n",
    "  r[ii] = G4.get_state(t_)\n",
    "  q[ii] = G1.get_state(t_)\n",
    "  qn[ii] = G2.get_state(t_)\n",
    "\n",
    "xfcn = lambda x_ : x_*1\n",
    "fig, ax = plt.subplots(1,1, figsize=(12,6))\n",
    "ax.plot(xfcn(t), D+6, label='D')\n",
    "ax.plot(xfcn(t), CLK+5, label='CLK')\n",
    "ax.plot(xfcn(t), Dn+4, label='Dn')\n",
    "ax.plot(xfcn(t), s+3, label='$\\overline{S}$')\n",
    "ax.plot(xfcn(t), r+2, label='$\\overline{R}$')\n",
    "ax.plot(xfcn(t), q+1, label='q', color='C5')\n",
    "ax.plot(xfcn(t), qn, label='~q', color='C5', linestyle='--')\n",
    "\n",
    "ax.grid(True)\n",
    "leg1 = ax.legend(loc='best')\n",
    "\n",
    "ax.set_title('SR Latch Testing')\n",
    "ax.set_xlabel('Time (ns)')\n",
    "ax.set_ylabel('Logic Level')\n"
   ]
  },
  {
   "cell_type": "code",
   "execution_count": 12,
   "id": "990bc31d",
   "metadata": {},
   "outputs": [
    {
     "data": {
      "application/vnd.jupyter.widget-view+json": {
       "model_id": "a2dce46d8f824bc39ac587acf4bba7a1",
       "version_major": 2,
       "version_minor": 0
      },
      "text/plain": [
       "Canvas(toolbar=Toolbar(toolitems=[('Home', 'Reset original view', 'home', 'home'), ('Back', 'Back to previous …"
      ]
     },
     "metadata": {},
     "output_type": "display_data"
    },
    {
     "data": {
      "text/plain": [
       "Text(0, 0.5, 'Logic Level')"
      ]
     },
     "execution_count": 12,
     "metadata": {},
     "output_type": "execute_result"
    }
   ],
   "source": [
    "tpd = 2.5\n",
    "\n",
    "t = np.linspace(0,200,100001)\n",
    "\n",
    "# D Latch Specific Gates\n",
    "G0 = NOTGate(tpd, initial_state=True)\n",
    "G3 = NAND2Gate(tpd, initial_state=True)\n",
    "G4 = NAND2Gate(tpd, initial_state=False)\n",
    "\n",
    "# SR Latch Gates\n",
    "G1 = NAND2Gate(tpd, initial_state=False)\n",
    "G2 = NAND2Gate(tpd, initial_state=True)\n",
    "\n",
    "Td = 40\n",
    "D = 1*((t % Td) > Td/2)\n",
    "#D = 1*((t >= 20)&(t < 20+Td/2))\n",
    "\n",
    "T = 50\n",
    "CLK = 1*((t % T) >= T/2)\n",
    "#CLK = 1*((t >= 40)\n",
    "#s = 1 - 1*(t > 40)\n",
    "#r = 1 + 0*t\n",
    "\n",
    "s = 0*t\n",
    "r = 0*t\n",
    "Dn = 0*t\n",
    "q = 0*t\n",
    "qn = 1 + 0*t\n",
    "for ii, t_ in enumerate(t):\n",
    "  if ii == 0:\n",
    "    qn_ = G1.get_state(t_)\n",
    "    q_ = G2.get_state(t_)\n",
    "    Dn_ = G0.get_state(t_)\n",
    "    s_ = G3.get_state(t_)\n",
    "    r_ = G4.get_state(t_)\n",
    "  else:\n",
    "    q_, qn_ = q[ii-1], qn[ii-1]\n",
    "    s_, r_ = s[ii-1], r[ii-1]\n",
    "    Dn_ = Dn[ii-1]\n",
    "  D_, CLK_ = D[ii], CLK[ii]\n",
    "  \n",
    "\n",
    "  G0.set_input(t_, D_)\n",
    "  G3.set_input(t_, D_, CLK_)\n",
    "  G4.set_input(t_, Dn_, CLK_)\n",
    "  G1.set_input(t_, s_, qn_)\n",
    "  G2.set_input(t_, r_, q_)\n",
    "\n",
    "  Dn[ii] = G0.get_state(t_)\n",
    "  s[ii] = G3.get_state(t_)\n",
    "  r[ii] = G4.get_state(t_)\n",
    "  q[ii] = G1.get_state(t_)\n",
    "  qn[ii] = G2.get_state(t_)\n",
    "\n",
    "xfcn = lambda x_ : x_*1\n",
    "fig, ax = plt.subplots(1,1, figsize=(12,6))\n",
    "ax.plot(xfcn(t), D+6, label='D')\n",
    "ax.plot(xfcn(t), CLK+5, label='CLK')\n",
    "ax.plot(xfcn(t), Dn+4, label='Dn')\n",
    "ax.plot(xfcn(t), s+3, label='$\\overline{S}$')\n",
    "ax.plot(xfcn(t), r+2, label='$\\overline{R}$')\n",
    "ax.plot(xfcn(t), q+1, label='q', color='C5')\n",
    "ax.plot(xfcn(t), qn, label='~q', color='C5', linestyle='--')\n",
    "\n",
    "ax.grid(True)\n",
    "leg1 = ax.legend(loc='best')\n",
    "\n",
    "ax.set_title('SR Latch Testing')\n",
    "ax.set_xlabel('Time (ns)')\n",
    "ax.set_ylabel('Logic Level')\n"
   ]
  }
 ],
 "metadata": {
  "interpreter": {
   "hash": "5764602bc5e15974420ba0a3caed7061d770b6b7de350fe4980c5fe44de76677"
  },
  "kernelspec": {
   "display_name": "Python 3.8.10 64-bit ('base': conda)",
   "name": "python3"
  },
  "language_info": {
   "codemirror_mode": {
    "name": "ipython",
    "version": 3
   },
   "file_extension": ".py",
   "mimetype": "text/x-python",
   "name": "python",
   "nbconvert_exporter": "python",
   "pygments_lexer": "ipython3",
   "version": "3.8.10"
  }
 },
 "nbformat": 4,
 "nbformat_minor": 5
}
