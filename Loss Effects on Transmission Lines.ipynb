{
 "cells": [
  {
   "cell_type": "code",
   "execution_count": 20,
   "metadata": {},
   "outputs": [],
   "source": [
    "%matplotlib widget\n",
    "import matplotlib.pyplot as plt\n",
    "import numpy as np\n"
   ]
  },
  {
   "cell_type": "code",
   "execution_count": 21,
   "metadata": {},
   "outputs": [],
   "source": [
    "def v2z(v, zo, vp, vzero=0):\n",
    "    \"\"\"Convert a voltage waveform to an impedance.\n",
    "    v => voltage array (one-dimensional numpy.ndarray)\n",
    "    zo => the reference impedance\n",
    "    vp => initial pulse height (might also be called v50ohm)\n",
    "    vzero => zero voltage that may not be exactly zero -- subtract from the\n",
    "        voltage step to get the true height of the step.\n",
    "    \"\"\"\n",
    "    v_ = np.array(v)\n",
    "    vp0 = vp - vzero\n",
    "    v0 = v_-vzero\n",
    "    return zo * v0 / (2*vp0 - v0)\n"
   ]
  },
  {
   "cell_type": "code",
   "execution_count": 22,
   "metadata": {},
   "outputs": [
    {
     "name": "stdout",
     "output_type": "stream",
     "text": [
      "Rloss per segment = 0.00802\n",
      "G = 8.02e-05\n",
      "T = 1\n"
     ]
    }
   ],
   "source": [
    "# Time delay for each transmission line segment\n",
    "td = 50e-12\n",
    "\n",
    "# Propagation velocity in cm/s\n",
    "vp = 3e10/np.sqrt(3.5)\n",
    "\n",
    "# Physical length of each transmission line segment.\n",
    "lx = vp*td\n",
    "\n",
    "# Length of the line to analyze ... Use this to adjust the length of the plots below.\n",
    "Ltot = 50 # cm\n",
    "\n",
    "# Lumped series resistance (per transmission line segment)\n",
    "rloss_pul = 0.01 # Ohm/cm\n",
    "Rloss = rloss_pul*lx\n",
    "print(\"Rloss per segment = %.3g\" % Rloss)\n",
    "\n",
    "# Characteristic impedance of the line\n",
    "Zo = 50\n",
    "\n",
    "# Amplitude of the RGW.\n",
    "Vplus = 1.0\n",
    "\n",
    "# The reflection coefficient at a lumped resistor location in either direction is given by ...\n",
    "G = Rloss / (Rloss + 2*Zo) \n",
    "print(\"G = %.3g\" % G)\n",
    "\n",
    "# The transmission coefficient at a lumped resistor location in either direction is given by ...\n",
    "T = 2*Zo / (Rloss + 2*Zo)\n",
    "print(\"T = %.3g\" % T)\n",
    "\n",
    "# Conversions from time to distance and the reverse (for TDR measurements)\n",
    "t2l = lambda t_ : vp * t_/1e9/2.0\n",
    "l2t = lambda l_ : l_/vp * 2.0 * 1e9\n"
   ]
  },
  {
   "cell_type": "markdown",
   "metadata": {},
   "source": [
    "# Track All Reflections (Including Multiple Reflections)\n",
    "\n",
    "Track all reflections and multiple reflections through 6 steps.  Note that each step in my vector below is actually two $t_d$, because it takes that long for the wave to propagation down and back from anyone one segment.\n",
    "\n",
    "<img src=\"Full_Bounce_Diagram_Series_Resistance.png\" alt=\"Bounce Full\" width=\"50%\"/>"
   ]
  },
  {
   "cell_type": "code",
   "execution_count": 23,
   "metadata": {},
   "outputs": [
    {
     "name": "stdout",
     "output_type": "stream",
     "text": [
      "[1.00000000e+00 8.01719445e-05 8.01590900e-05 8.01462380e-05\n",
      " 8.01333891e-05 8.01205422e-05]\n",
      "[1.0, 1.0000801719445176, 1.000160331034469, 1.000240477272431, 1.000320610661494, 1.0004007312037178]\n"
     ]
    },
    {
     "data": {
      "application/vnd.jupyter.widget-view+json": {
       "model_id": "24e9b2613f534c7499148975f59f4952",
       "version_major": 2,
       "version_minor": 0
      },
      "text/plain": [
       "Canvas(toolbar=Toolbar(toolitems=[('Home', 'Reset original view', 'home', 'home'), ('Back', 'Back to previous …"
      ]
     },
     "metadata": {},
     "output_type": "display_data"
    },
    {
     "data": {
      "text/plain": [
       "Text(0.5, 0, 'Distance (cm)')"
      ]
     },
     "execution_count": 23,
     "metadata": {},
     "output_type": "execute_result"
    }
   ],
   "source": [
    "x = np.array([1, \n",
    "  G,\n",
    "  G*T**2,\n",
    "  G**3 * T**2 + G * T**4,\n",
    "  2*G**5 * T**2 + 4*G**3 * T**4 + G*T**6,\n",
    "  3*G**7 * T**2 + 11*G**5 * T**4 + 7*G**3 * T**6 + G*T**8])\n",
    "\n",
    "y = [x[0]]\n",
    "for nn in range(1,len(x)):\n",
    "  y.append(x[nn] + y[-1])\n",
    "\n",
    "print(x)\n",
    "print(y)\n",
    "\n",
    "fig, ax = plt.subplots(1,1)\n",
    "t = 2*td*np.arange(0, len(y))\n",
    "z = v2z(y, Zo, Vplus)\n",
    "ax.plot(t*1e9, z, marker='o')\n",
    "ax.set_xlabel('Time (ns)')\n",
    "ax.set_ylabel('Impedance Observed (Ohms)')\n",
    "ax.grid(True)\n",
    "\n",
    "dist_ax = ax.secondary_xaxis('top', functions=(t2l,l2t))\n",
    "dist_ax.set_xlabel('Distance (cm)')"
   ]
  },
  {
   "cell_type": "markdown",
   "metadata": {},
   "source": [
    "# Track Only the First Reflection (No Multiple Reflections)\n",
    "\n",
    "The bounce diagram below is tracking a single multiple reflection, which leaves the response with terms with $\\Gamma$ and also with a $\\Gamma^3$ term.  The plot below only reflects the single cases.  $\\Gamma$ is very small, which makes terms with multiple reflections insignificant.\n",
    "\n",
    "<img src=\"One_Bounce_Diagram_Rs.png\" alt=\"Bounce Full\" width=\"50%\"/>"
   ]
  },
  {
   "cell_type": "code",
   "execution_count": 24,
   "metadata": {},
   "outputs": [
    {
     "data": {
      "application/vnd.jupyter.widget-view+json": {
       "model_id": "6a7c14fa34244fda8af3a00f45852473",
       "version_major": 2,
       "version_minor": 0
      },
      "text/plain": [
       "Canvas(toolbar=Toolbar(toolitems=[('Home', 'Reset original view', 'home', 'home'), ('Back', 'Back to previous …"
      ]
     },
     "metadata": {},
     "output_type": "display_data"
    },
    {
     "data": {
      "text/plain": [
       "Text(0.5, 0, 'Distance (cm)')"
      ]
     },
     "execution_count": 24,
     "metadata": {},
     "output_type": "execute_result"
    }
   ],
   "source": [
    "NN = np.ceil(Ltot/(lx))\n",
    "nn = np.arange(0, NN)\n",
    "x = G * T**(2*nn)\n",
    "y = [1, ]\n",
    "for xi in x:\n",
    "  y.append(xi + y[-1])\n",
    "\n",
    "fig, ax = plt.subplots(1,1)\n",
    "t = 2*td*np.arange(0, len(y))\n",
    "z = v2z(y, Zo, Vplus)\n",
    "ax.plot(t*1e9, z)\n",
    "ax.set_xlabel('Time (ns)')\n",
    "ax.set_ylabel('Impedance Observed (Ohms)')\n",
    "ax.grid(True)\n",
    "\n",
    "dist_ax = ax.secondary_xaxis('top', functions=(t2l,l2t))\n",
    "dist_ax.set_xlabel('Distance (cm)')"
   ]
  },
  {
   "cell_type": "markdown",
   "metadata": {},
   "source": [
    "# Track the First, Second, and Third Order Reflections\n",
    "\n",
    "Use waves that have been reflected once $\\left(\\Gamma\\right)$ and some multiple reflection bounce $\\left(\\Gamma^3\\ \\text{and}\\ \\Gamma^5 \\text{terms}\\right)$.  Unless both the resistance and the step size is set relatively large, the responses with multiple reflections will be indistinguishable from the response including only the first reflection."
   ]
  },
  {
   "cell_type": "code",
   "execution_count": 25,
   "metadata": {},
   "outputs": [
    {
     "data": {
      "application/vnd.jupyter.widget-view+json": {
       "model_id": "3fb65be9b84142e49ad29b2c95a5cb15",
       "version_major": 2,
       "version_minor": 0
      },
      "text/plain": [
       "Canvas(toolbar=Toolbar(toolitems=[('Home', 'Reset original view', 'home', 'home'), ('Back', 'Back to previous …"
      ]
     },
     "metadata": {},
     "output_type": "display_data"
    },
    {
     "name": "stdout",
     "output_type": "stream",
     "text": [
      "[8.01719445e-05 8.01590900e-05 8.01462374e-05 8.01333870e-05\n",
      " 8.01205386e-05 8.01076923e-05 8.00948480e-05 8.00820058e-05]\n",
      "[0, 0, 0, 5.1522581215687e-13, 5.151432021580522e-13, 5.150606054047119e-13, 5.149780218947254e-13, 5.148954516259693e-13]\n",
      "[0, 0, 0, 0, 0, 3.3116348710160504e-21, 3.3111038918874346e-21, 3.310572997894664e-21]\n"
     ]
    }
   ],
   "source": [
    "NN = np.ceil(Ltot/(lx))\n",
    "nn = np.arange(0, NN)\n",
    "\n",
    "x = G * T**(2*nn)\n",
    "x3 = [G**3 * T**(2*(ni - 2)) if ni > 2 else 0 for ni in nn]\n",
    "x5 = [G**5 * T**(2*(ni - 4)) if ni > 4 else 0 for ni in nn]\n",
    "\n",
    "y = [1, ]\n",
    "y3 = [1, ]\n",
    "y5 = [1, ]\n",
    "for xi, x3i, x5i in zip(x, x3, x5):\n",
    "  y.append(xi + y[-1])\n",
    "  y3.append(xi + x3i + y3[-1])\n",
    "  y5.append(xi + x3i + x5i + y5[-1])\n",
    "\n",
    "#print(x)\n",
    "#print(x3)\n",
    "#print(y)\n",
    "\n",
    "fig, ax = plt.subplots(1,1)\n",
    "t = 2*td*np.arange(0, len(y))\n",
    "z = v2z(y, Zo, Vplus)\n",
    "z3 = v2z(y3, Zo, Vplus)\n",
    "z5 = v2z(y5, Zo, Vplus)\n",
    "ax.plot(t*1e9, z)\n",
    "ax.plot(t*1e9, z3)\n",
    "ax.plot(t*1e9, z5)\n",
    "ax.set_xlabel('Time (ns)')\n",
    "ax.set_ylabel('Impedance Observed (Ohms)')\n",
    "ax.grid(True)\n",
    "\n",
    "dist_ax = ax.secondary_xaxis('top', functions=(t2l,l2t))\n",
    "dist_ax.set_xlabel('Distance (cm)')\n",
    "\n",
    "print(x[:8])\n",
    "print(x3[:8])\n",
    "print(x5[:8])\n"
   ]
  }
 ],
 "metadata": {
  "kernelspec": {
   "display_name": "Python 3",
   "language": "python",
   "name": "python3"
  },
  "language_info": {
   "codemirror_mode": {
    "name": "ipython",
    "version": 3
   },
   "file_extension": ".py",
   "mimetype": "text/x-python",
   "name": "python",
   "nbconvert_exporter": "python",
   "pygments_lexer": "ipython3",
   "version": "3.8.10"
  }
 },
 "nbformat": 4,
 "nbformat_minor": 4
}
